{
  "nbformat": 4,
  "nbformat_minor": 0,
  "metadata": {
    "colab": {
      "name": "Jobathon-Nov(2021).ipynb",
      "provenance": [],
      "collapsed_sections": []
    },
    "kernelspec": {
      "name": "python3",
      "display_name": "Python 3"
    },
    "language_info": {
      "name": "python"
    },
    "accelerator": "GPU"
  },
  "cells": [
    {
      "cell_type": "markdown",
      "metadata": {
        "id": "EDhMMNlVXLKa"
      },
      "source": [
        "# **Importing Library**"
      ]
    },
    {
      "cell_type": "code",
      "metadata": {
        "id": "TfTHBqdbTh11"
      },
      "source": [
        "import numpy as np\n",
        "import pandas as pd\n",
        "import matplotlib.pyplot as plt\n",
        "%matplotlib inline\n",
        "plt.style.use('seaborn-whitegrid')\n",
        "\n",
        "import seaborn as sns\n",
        "from sklearn.model_selection import train_test_split\n",
        "from sklearn.metrics import accuracy_score, f1_score\n",
        "\n",
        "from sklearn.tree import DecisionTreeClassifier\n",
        "\n",
        "from IPython.core.interactiveshell import InteractiveShell\n",
        "InteractiveShell.ast_node_interactivity = \"all\"\n",
        "\n",
        "pd.set_option('display.max_colwidth', -1)\n",
        "\n",
        "import warnings\n",
        "warnings.simplefilter('ignore')"
      ],
      "execution_count": 149,
      "outputs": []
    },
    {
      "cell_type": "markdown",
      "metadata": {
        "id": "PQQLMxVwXS6J"
      },
      "source": [
        "# **Loading DataSet**"
      ]
    },
    {
      "cell_type": "code",
      "metadata": {
        "id": "tb2K0mSz_Vz1"
      },
      "source": [
        "ss = pd.read_csv('/content/drive/MyDrive/Job-A-Thon/sample_submission_znWiLZ4.csv')       # Sample Submission Dataset\n",
        "train = pd.read_csv('/content/drive/MyDrive/Job-A-Thon/train_MpHjUjU.csv')                # Train Dataset\n",
        "test = pd.read_csv('/content/drive/MyDrive/Job-A-Thon/test_hXY9mYw.csv')                  # Test Dataset"
      ],
      "execution_count": 150,
      "outputs": []
    },
    {
      "cell_type": "code",
      "metadata": {
        "colab": {
          "base_uri": "https://localhost:8080/",
          "height": 206
        },
        "id": "7ac5sIOx_bbH",
        "outputId": "e437c6c8-1d65-45bc-b8a2-26600f10b332"
      },
      "source": [
        "train.head()               # First 5 rows of the Dataset"
      ],
      "execution_count": 151,
      "outputs": [
        {
          "output_type": "execute_result",
          "data": {
            "text/html": [
              "<div>\n",
              "<style scoped>\n",
              "    .dataframe tbody tr th:only-of-type {\n",
              "        vertical-align: middle;\n",
              "    }\n",
              "\n",
              "    .dataframe tbody tr th {\n",
              "        vertical-align: top;\n",
              "    }\n",
              "\n",
              "    .dataframe thead th {\n",
              "        text-align: right;\n",
              "    }\n",
              "</style>\n",
              "<table border=\"1\" class=\"dataframe\">\n",
              "  <thead>\n",
              "    <tr style=\"text-align: right;\">\n",
              "      <th></th>\n",
              "      <th>MMM-YY</th>\n",
              "      <th>Emp_ID</th>\n",
              "      <th>Age</th>\n",
              "      <th>Gender</th>\n",
              "      <th>City</th>\n",
              "      <th>Education_Level</th>\n",
              "      <th>Salary</th>\n",
              "      <th>Dateofjoining</th>\n",
              "      <th>LastWorkingDate</th>\n",
              "      <th>Joining Designation</th>\n",
              "      <th>Designation</th>\n",
              "      <th>Total Business Value</th>\n",
              "      <th>Quarterly Rating</th>\n",
              "    </tr>\n",
              "  </thead>\n",
              "  <tbody>\n",
              "    <tr>\n",
              "      <th>0</th>\n",
              "      <td>2016-01-01</td>\n",
              "      <td>1</td>\n",
              "      <td>28</td>\n",
              "      <td>Male</td>\n",
              "      <td>C23</td>\n",
              "      <td>Master</td>\n",
              "      <td>57387</td>\n",
              "      <td>2015-12-24</td>\n",
              "      <td>NaN</td>\n",
              "      <td>1</td>\n",
              "      <td>1</td>\n",
              "      <td>2381060</td>\n",
              "      <td>2</td>\n",
              "    </tr>\n",
              "    <tr>\n",
              "      <th>1</th>\n",
              "      <td>2016-02-01</td>\n",
              "      <td>1</td>\n",
              "      <td>28</td>\n",
              "      <td>Male</td>\n",
              "      <td>C23</td>\n",
              "      <td>Master</td>\n",
              "      <td>57387</td>\n",
              "      <td>2015-12-24</td>\n",
              "      <td>NaN</td>\n",
              "      <td>1</td>\n",
              "      <td>1</td>\n",
              "      <td>-665480</td>\n",
              "      <td>2</td>\n",
              "    </tr>\n",
              "    <tr>\n",
              "      <th>2</th>\n",
              "      <td>2016-03-01</td>\n",
              "      <td>1</td>\n",
              "      <td>28</td>\n",
              "      <td>Male</td>\n",
              "      <td>C23</td>\n",
              "      <td>Master</td>\n",
              "      <td>57387</td>\n",
              "      <td>2015-12-24</td>\n",
              "      <td>2016-03-11</td>\n",
              "      <td>1</td>\n",
              "      <td>1</td>\n",
              "      <td>0</td>\n",
              "      <td>2</td>\n",
              "    </tr>\n",
              "    <tr>\n",
              "      <th>3</th>\n",
              "      <td>2017-11-01</td>\n",
              "      <td>2</td>\n",
              "      <td>31</td>\n",
              "      <td>Male</td>\n",
              "      <td>C7</td>\n",
              "      <td>Master</td>\n",
              "      <td>67016</td>\n",
              "      <td>2017-11-06</td>\n",
              "      <td>NaN</td>\n",
              "      <td>2</td>\n",
              "      <td>2</td>\n",
              "      <td>0</td>\n",
              "      <td>1</td>\n",
              "    </tr>\n",
              "    <tr>\n",
              "      <th>4</th>\n",
              "      <td>2017-12-01</td>\n",
              "      <td>2</td>\n",
              "      <td>31</td>\n",
              "      <td>Male</td>\n",
              "      <td>C7</td>\n",
              "      <td>Master</td>\n",
              "      <td>67016</td>\n",
              "      <td>2017-11-06</td>\n",
              "      <td>NaN</td>\n",
              "      <td>2</td>\n",
              "      <td>2</td>\n",
              "      <td>0</td>\n",
              "      <td>1</td>\n",
              "    </tr>\n",
              "  </tbody>\n",
              "</table>\n",
              "</div>"
            ],
            "text/plain": [
              "       MMM-YY  Emp_ID  Age  ... Designation Total Business Value Quarterly Rating\n",
              "0  2016-01-01  1       28   ...  1           2381060              2              \n",
              "1  2016-02-01  1       28   ...  1          -665480               2              \n",
              "2  2016-03-01  1       28   ...  1           0                    2              \n",
              "3  2017-11-01  2       31   ...  2           0                    1              \n",
              "4  2017-12-01  2       31   ...  2           0                    1              \n",
              "\n",
              "[5 rows x 13 columns]"
            ]
          },
          "metadata": {},
          "execution_count": 151
        }
      ]
    },
    {
      "cell_type": "markdown",
      "metadata": {
        "id": "wbi-q1s6hB3b"
      },
      "source": [
        "## **Data Profiling**"
      ]
    },
    {
      "cell_type": "code",
      "metadata": {
        "colab": {
          "base_uri": "https://localhost:8080/"
        },
        "id": "UXXe-Xyk_clT",
        "outputId": "61cf8965-4891-4aed-946f-b28d522118d8"
      },
      "source": [
        "train.dtypes                       # Data Types"
      ],
      "execution_count": 152,
      "outputs": [
        {
          "output_type": "execute_result",
          "data": {
            "text/plain": [
              "MMM-YY                  object\n",
              "Emp_ID                  int64 \n",
              "Age                     int64 \n",
              "Gender                  object\n",
              "City                    object\n",
              "Education_Level         object\n",
              "Salary                  int64 \n",
              "Dateofjoining           object\n",
              "LastWorkingDate         object\n",
              "Joining Designation     int64 \n",
              "Designation             int64 \n",
              "Total Business Value    int64 \n",
              "Quarterly Rating        int64 \n",
              "dtype: object"
            ]
          },
          "metadata": {},
          "execution_count": 152
        }
      ]
    },
    {
      "cell_type": "code",
      "metadata": {
        "colab": {
          "base_uri": "https://localhost:8080/"
        },
        "id": "B-TPN45T_rJN",
        "outputId": "99e2e035-0fc1-47f0-adfe-1ad0abc27be7"
      },
      "source": [
        "train.info()                 # info of the Dataset"
      ],
      "execution_count": 153,
      "outputs": [
        {
          "output_type": "stream",
          "name": "stdout",
          "text": [
            "<class 'pandas.core.frame.DataFrame'>\n",
            "RangeIndex: 19104 entries, 0 to 19103\n",
            "Data columns (total 13 columns):\n",
            " #   Column                Non-Null Count  Dtype \n",
            "---  ------                --------------  ----- \n",
            " 0   MMM-YY                19104 non-null  object\n",
            " 1   Emp_ID                19104 non-null  int64 \n",
            " 2   Age                   19104 non-null  int64 \n",
            " 3   Gender                19104 non-null  object\n",
            " 4   City                  19104 non-null  object\n",
            " 5   Education_Level       19104 non-null  object\n",
            " 6   Salary                19104 non-null  int64 \n",
            " 7   Dateofjoining         19104 non-null  object\n",
            " 8   LastWorkingDate       1616 non-null   object\n",
            " 9   Joining Designation   19104 non-null  int64 \n",
            " 10  Designation           19104 non-null  int64 \n",
            " 11  Total Business Value  19104 non-null  int64 \n",
            " 12  Quarterly Rating      19104 non-null  int64 \n",
            "dtypes: int64(7), object(6)\n",
            "memory usage: 1.9+ MB\n"
          ]
        }
      ]
    },
    {
      "cell_type": "code",
      "metadata": {
        "colab": {
          "base_uri": "https://localhost:8080/"
        },
        "id": "W_y8ADJV_vEW",
        "outputId": "26d7b969-0989-40dc-a4db-e8fb225c27e3"
      },
      "source": [
        "train.shape, test.shape             # Shape of Training & Test Dataset"
      ],
      "execution_count": 154,
      "outputs": [
        {
          "output_type": "execute_result",
          "data": {
            "text/plain": [
              "((19104, 13), (741, 1))"
            ]
          },
          "metadata": {},
          "execution_count": 154
        }
      ]
    },
    {
      "cell_type": "code",
      "metadata": {
        "colab": {
          "base_uri": "https://localhost:8080/",
          "height": 300
        },
        "id": "FYL7qwdM_x0N",
        "outputId": "4c5b1e64-b99a-4e4b-9806-24872c762112"
      },
      "source": [
        "train.describe()                   # Deep information of the Dataset"
      ],
      "execution_count": 155,
      "outputs": [
        {
          "output_type": "execute_result",
          "data": {
            "text/html": [
              "<div>\n",
              "<style scoped>\n",
              "    .dataframe tbody tr th:only-of-type {\n",
              "        vertical-align: middle;\n",
              "    }\n",
              "\n",
              "    .dataframe tbody tr th {\n",
              "        vertical-align: top;\n",
              "    }\n",
              "\n",
              "    .dataframe thead th {\n",
              "        text-align: right;\n",
              "    }\n",
              "</style>\n",
              "<table border=\"1\" class=\"dataframe\">\n",
              "  <thead>\n",
              "    <tr style=\"text-align: right;\">\n",
              "      <th></th>\n",
              "      <th>Emp_ID</th>\n",
              "      <th>Age</th>\n",
              "      <th>Salary</th>\n",
              "      <th>Joining Designation</th>\n",
              "      <th>Designation</th>\n",
              "      <th>Total Business Value</th>\n",
              "      <th>Quarterly Rating</th>\n",
              "    </tr>\n",
              "  </thead>\n",
              "  <tbody>\n",
              "    <tr>\n",
              "      <th>count</th>\n",
              "      <td>19104.000000</td>\n",
              "      <td>19104.000000</td>\n",
              "      <td>19104.000000</td>\n",
              "      <td>19104.000000</td>\n",
              "      <td>19104.000000</td>\n",
              "      <td>1.910400e+04</td>\n",
              "      <td>19104.000000</td>\n",
              "    </tr>\n",
              "    <tr>\n",
              "      <th>mean</th>\n",
              "      <td>1415.591133</td>\n",
              "      <td>34.650283</td>\n",
              "      <td>65652.025126</td>\n",
              "      <td>1.690536</td>\n",
              "      <td>2.252670</td>\n",
              "      <td>5.716621e+05</td>\n",
              "      <td>2.008899</td>\n",
              "    </tr>\n",
              "    <tr>\n",
              "      <th>std</th>\n",
              "      <td>810.705321</td>\n",
              "      <td>6.264471</td>\n",
              "      <td>30914.515344</td>\n",
              "      <td>0.836984</td>\n",
              "      <td>1.026512</td>\n",
              "      <td>1.128312e+06</td>\n",
              "      <td>1.009832</td>\n",
              "    </tr>\n",
              "    <tr>\n",
              "      <th>min</th>\n",
              "      <td>1.000000</td>\n",
              "      <td>21.000000</td>\n",
              "      <td>10747.000000</td>\n",
              "      <td>1.000000</td>\n",
              "      <td>1.000000</td>\n",
              "      <td>-6.000000e+06</td>\n",
              "      <td>1.000000</td>\n",
              "    </tr>\n",
              "    <tr>\n",
              "      <th>25%</th>\n",
              "      <td>710.000000</td>\n",
              "      <td>30.000000</td>\n",
              "      <td>42383.000000</td>\n",
              "      <td>1.000000</td>\n",
              "      <td>1.000000</td>\n",
              "      <td>0.000000e+00</td>\n",
              "      <td>1.000000</td>\n",
              "    </tr>\n",
              "    <tr>\n",
              "      <th>50%</th>\n",
              "      <td>1417.000000</td>\n",
              "      <td>34.000000</td>\n",
              "      <td>60087.000000</td>\n",
              "      <td>1.000000</td>\n",
              "      <td>2.000000</td>\n",
              "      <td>2.500000e+05</td>\n",
              "      <td>2.000000</td>\n",
              "    </tr>\n",
              "    <tr>\n",
              "      <th>75%</th>\n",
              "      <td>2137.000000</td>\n",
              "      <td>39.000000</td>\n",
              "      <td>83969.000000</td>\n",
              "      <td>2.000000</td>\n",
              "      <td>3.000000</td>\n",
              "      <td>6.997000e+05</td>\n",
              "      <td>3.000000</td>\n",
              "    </tr>\n",
              "    <tr>\n",
              "      <th>max</th>\n",
              "      <td>2788.000000</td>\n",
              "      <td>58.000000</td>\n",
              "      <td>188418.000000</td>\n",
              "      <td>5.000000</td>\n",
              "      <td>5.000000</td>\n",
              "      <td>3.374772e+07</td>\n",
              "      <td>4.000000</td>\n",
              "    </tr>\n",
              "  </tbody>\n",
              "</table>\n",
              "</div>"
            ],
            "text/plain": [
              "             Emp_ID           Age  ...  Total Business Value  Quarterly Rating\n",
              "count  19104.000000  19104.000000  ...  1.910400e+04          19104.000000    \n",
              "mean   1415.591133   34.650283     ...  5.716621e+05          2.008899        \n",
              "std    810.705321    6.264471      ...  1.128312e+06          1.009832        \n",
              "min    1.000000      21.000000     ... -6.000000e+06          1.000000        \n",
              "25%    710.000000    30.000000     ...  0.000000e+00          1.000000        \n",
              "50%    1417.000000   34.000000     ...  2.500000e+05          2.000000        \n",
              "75%    2137.000000   39.000000     ...  6.997000e+05          3.000000        \n",
              "max    2788.000000   58.000000     ...  3.374772e+07          4.000000        \n",
              "\n",
              "[8 rows x 7 columns]"
            ]
          },
          "metadata": {},
          "execution_count": 155
        }
      ]
    },
    {
      "cell_type": "markdown",
      "metadata": {
        "id": "OhPOXI4yXwYJ"
      },
      "source": [
        "# **Checking Missing Values**"
      ]
    },
    {
      "cell_type": "code",
      "metadata": {
        "id": "MK7YaQQ9_2D2"
      },
      "source": [
        "import missingno as mo"
      ],
      "execution_count": 156,
      "outputs": []
    },
    {
      "cell_type": "code",
      "metadata": {
        "colab": {
          "base_uri": "https://localhost:8080/",
          "height": 715
        },
        "id": "r40E6s1C_80m",
        "outputId": "ca44253c-89a4-4de0-b85a-74cd6abbc799"
      },
      "source": [
        "mo.bar(train) #Finding out missing value in dataset in graphical form using missingno library"
      ],
      "execution_count": 157,
      "outputs": [
        {
          "output_type": "execute_result",
          "data": {
            "text/plain": [
              "<matplotlib.axes._subplots.AxesSubplot at 0x7f8a23225f90>"
            ]
          },
          "metadata": {},
          "execution_count": 157
        },
        {
          "output_type": "display_data",
          "data": {
            "image/png": "[encoded data removed]",
            "text/plain": [
              "<Figure size 1800x720 with 3 Axes>"
            ]
          },
          "metadata": {}
        }
      ]
    },
    {
      "cell_type": "code",
      "metadata": {
        "colab": {
          "base_uri": "https://localhost:8080/"
        },
        "id": "D5Z05RV-__K2",
        "outputId": "e3749b7b-b7ee-46e7-fcd0-a0b134cfff4e"
      },
      "source": [
        "train.isnull().sum()"
      ],
      "execution_count": 158,
      "outputs": [
        {
          "output_type": "execute_result",
          "data": {
            "text/plain": [
              "MMM-YY                  0    \n",
              "Emp_ID                  0    \n",
              "Age                     0    \n",
              "Gender                  0    \n",
              "City                    0    \n",
              "Education_Level         0    \n",
              "Salary                  0    \n",
              "Dateofjoining           0    \n",
              "LastWorkingDate         17488\n",
              "Joining Designation     0    \n",
              "Designation             0    \n",
              "Total Business Value    0    \n",
              "Quarterly Rating        0    \n",
              "dtype: int64"
            ]
          },
          "metadata": {},
          "execution_count": 158
        }
      ]
    },
    {
      "cell_type": "code",
      "metadata": {
        "id": "MwZa6sCQAChP"
      },
      "source": [
        "#Separating categorical and continuous columns from the dataset\n",
        "cat=[]\n",
        "con=[]\n",
        "for i in train.columns:\n",
        "    if(train[i].dtypes == 'object'):\n",
        "        cat.append(i)\n",
        "    else:\n",
        "        con.append(i)"
      ],
      "execution_count": 159,
      "outputs": []
    },
    {
      "cell_type": "code",
      "metadata": {
        "colab": {
          "base_uri": "https://localhost:8080/"
        },
        "id": "TwttZ7WrAKL0",
        "outputId": "89e92950-41e8-44a3-aa6b-f9e1fc36cb31"
      },
      "source": [
        "cat                         # Categorical Columns"
      ],
      "execution_count": 160,
      "outputs": [
        {
          "output_type": "execute_result",
          "data": {
            "text/plain": [
              "['MMM-YY',\n",
              " 'Gender',\n",
              " 'City',\n",
              " 'Education_Level',\n",
              " 'Dateofjoining',\n",
              " 'LastWorkingDate']"
            ]
          },
          "metadata": {},
          "execution_count": 160
        }
      ]
    },
    {
      "cell_type": "code",
      "metadata": {
        "colab": {
          "base_uri": "https://localhost:8080/"
        },
        "id": "MRnznpDSALse",
        "outputId": "29460221-7acd-4168-9707-0940480e3032"
      },
      "source": [
        "con                         # Continous columns"
      ],
      "execution_count": 161,
      "outputs": [
        {
          "output_type": "execute_result",
          "data": {
            "text/plain": [
              "['Emp_ID',\n",
              " 'Age',\n",
              " 'Salary',\n",
              " 'Joining Designation',\n",
              " 'Designation',\n",
              " 'Total Business Value',\n",
              " 'Quarterly Rating']"
            ]
          },
          "metadata": {},
          "execution_count": 161
        }
      ]
    },
    {
      "cell_type": "code",
      "metadata": {
        "colab": {
          "base_uri": "https://localhost:8080/"
        },
        "id": "525h7kOXANBZ",
        "outputId": "e819f431-5961-4172-dc2e-13af73a7eeb7"
      },
      "source": [
        "train.nunique()         # Unique Values"
      ],
      "execution_count": 162,
      "outputs": [
        {
          "output_type": "execute_result",
          "data": {
            "text/plain": [
              "MMM-YY                  24   \n",
              "Emp_ID                  2381 \n",
              "Age                     36   \n",
              "Gender                  2    \n",
              "City                    29   \n",
              "Education_Level         3    \n",
              "Salary                  2383 \n",
              "Dateofjoining           869  \n",
              "LastWorkingDate         493  \n",
              "Joining Designation     5    \n",
              "Designation             5    \n",
              "Total Business Value    10181\n",
              "Quarterly Rating        4    \n",
              "dtype: int64"
            ]
          },
          "metadata": {},
          "execution_count": 162
        }
      ]
    },
    {
      "cell_type": "code",
      "metadata": {
        "colab": {
          "base_uri": "https://localhost:8080/"
        },
        "id": "yQd68nkbAeud",
        "outputId": "b42047b8-5618-480e-f3a6-302327609f76"
      },
      "source": [
        "train[\"Emp_ID\"].value_counts()          # Checking unique values in 'Emp_ID' (primary key)"
      ],
      "execution_count": 163,
      "outputs": [
        {
          "output_type": "execute_result",
          "data": {
            "text/plain": [
              "2049    24\n",
              "1191    24\n",
              "1655    24\n",
              "926     24\n",
              "1623    24\n",
              "        ..\n",
              "1448    1 \n",
              "748     1 \n",
              "930     1 \n",
              "962     1 \n",
              "1194    1 \n",
              "Name: Emp_ID, Length: 2381, dtype: int64"
            ]
          },
          "metadata": {},
          "execution_count": 163
        }
      ]
    },
    {
      "cell_type": "markdown",
      "metadata": {
        "id": "9ga7S60uX7OO"
      },
      "source": [
        "# **Checking Duplicate Values in Emp_ID column**"
      ]
    },
    {
      "cell_type": "code",
      "metadata": {
        "id": "EVdKFPCPAvad"
      },
      "source": [
        "import collections               "
      ],
      "execution_count": 164,
      "outputs": []
    },
    {
      "cell_type": "code",
      "metadata": {
        "id": "4FnTCXVZBD8y"
      },
      "source": [
        "duplicate_items = [item for item , count in collections.Counter(train.Emp_ID).items() if count>1]"
      ],
      "execution_count": 165,
      "outputs": []
    },
    {
      "cell_type": "code",
      "metadata": {
        "colab": {
          "base_uri": "https://localhost:8080/"
        },
        "id": "VUym4xloBMn9",
        "outputId": "b5023af9-8631-4f3f-c083-0ad57b9fd904"
      },
      "source": [
        "len(duplicate_items)"
      ],
      "execution_count": 166,
      "outputs": [
        {
          "output_type": "execute_result",
          "data": {
            "text/plain": [
              "2200"
            ]
          },
          "metadata": {},
          "execution_count": 166
        }
      ]
    },
    {
      "cell_type": "markdown",
      "metadata": {
        "id": "tXHGpTjQBhVd"
      },
      "source": [
        "## **There are total 2200 dupicate values in the \"Emp_ID\" column**"
      ]
    },
    {
      "cell_type": "code",
      "metadata": {
        "id": "ZSNj0WYrBy6C"
      },
      "source": [
        "train = train.drop_duplicates(subset=['Emp_ID'], keep='last')     # Droping the duplicate values"
      ],
      "execution_count": 167,
      "outputs": []
    },
    {
      "cell_type": "code",
      "metadata": {
        "colab": {
          "base_uri": "https://localhost:8080/",
          "height": 423
        },
        "id": "9wua54ldCOss",
        "outputId": "19a6dc75-7cbc-42b7-d567-9fb76a7f5c54"
      },
      "source": [
        "train                                                             # Data after droping duplicate values"
      ],
      "execution_count": 168,
      "outputs": [
        {
          "output_type": "execute_result",
          "data": {
            "text/html": [
              "<div>\n",
              "<style scoped>\n",
              "    .dataframe tbody tr th:only-of-type {\n",
              "        vertical-align: middle;\n",
              "    }\n",
              "\n",
              "    .dataframe tbody tr th {\n",
              "        vertical-align: top;\n",
              "    }\n",
              "\n",
              "    .dataframe thead th {\n",
              "        text-align: right;\n",
              "    }\n",
              "</style>\n",
              "<table border=\"1\" class=\"dataframe\">\n",
              "  <thead>\n",
              "    <tr style=\"text-align: right;\">\n",
              "      <th></th>\n",
              "      <th>MMM-YY</th>\n",
              "      <th>Emp_ID</th>\n",
              "      <th>Age</th>\n",
              "      <th>Gender</th>\n",
              "      <th>City</th>\n",
              "      <th>Education_Level</th>\n",
              "      <th>Salary</th>\n",
              "      <th>Dateofjoining</th>\n",
              "      <th>LastWorkingDate</th>\n",
              "      <th>Joining Designation</th>\n",
              "      <th>Designation</th>\n",
              "      <th>Total Business Value</th>\n",
              "      <th>Quarterly Rating</th>\n",
              "    </tr>\n",
              "  </thead>\n",
              "  <tbody>\n",
              "    <tr>\n",
              "      <th>2</th>\n",
              "      <td>2016-03-01</td>\n",
              "      <td>1</td>\n",
              "      <td>28</td>\n",
              "      <td>Male</td>\n",
              "      <td>C23</td>\n",
              "      <td>Master</td>\n",
              "      <td>57387</td>\n",
              "      <td>2015-12-24</td>\n",
              "      <td>2016-03-11</td>\n",
              "      <td>1</td>\n",
              "      <td>1</td>\n",
              "      <td>0</td>\n",
              "      <td>2</td>\n",
              "    </tr>\n",
              "    <tr>\n",
              "      <th>4</th>\n",
              "      <td>2017-12-01</td>\n",
              "      <td>2</td>\n",
              "      <td>31</td>\n",
              "      <td>Male</td>\n",
              "      <td>C7</td>\n",
              "      <td>Master</td>\n",
              "      <td>67016</td>\n",
              "      <td>2017-11-06</td>\n",
              "      <td>NaN</td>\n",
              "      <td>2</td>\n",
              "      <td>2</td>\n",
              "      <td>0</td>\n",
              "      <td>1</td>\n",
              "    </tr>\n",
              "    <tr>\n",
              "      <th>9</th>\n",
              "      <td>2017-04-01</td>\n",
              "      <td>4</td>\n",
              "      <td>43</td>\n",
              "      <td>Male</td>\n",
              "      <td>C13</td>\n",
              "      <td>Master</td>\n",
              "      <td>65603</td>\n",
              "      <td>2016-12-07</td>\n",
              "      <td>2017-04-27</td>\n",
              "      <td>2</td>\n",
              "      <td>2</td>\n",
              "      <td>0</td>\n",
              "      <td>1</td>\n",
              "    </tr>\n",
              "    <tr>\n",
              "      <th>12</th>\n",
              "      <td>2016-03-01</td>\n",
              "      <td>5</td>\n",
              "      <td>29</td>\n",
              "      <td>Male</td>\n",
              "      <td>C9</td>\n",
              "      <td>College</td>\n",
              "      <td>46368</td>\n",
              "      <td>2016-01-09</td>\n",
              "      <td>2016-03-07</td>\n",
              "      <td>1</td>\n",
              "      <td>1</td>\n",
              "      <td>0</td>\n",
              "      <td>1</td>\n",
              "    </tr>\n",
              "    <tr>\n",
              "      <th>17</th>\n",
              "      <td>2017-12-01</td>\n",
              "      <td>6</td>\n",
              "      <td>31</td>\n",
              "      <td>Female</td>\n",
              "      <td>C11</td>\n",
              "      <td>Bachelor</td>\n",
              "      <td>78728</td>\n",
              "      <td>2017-07-31</td>\n",
              "      <td>NaN</td>\n",
              "      <td>3</td>\n",
              "      <td>3</td>\n",
              "      <td>0</td>\n",
              "      <td>2</td>\n",
              "    </tr>\n",
              "    <tr>\n",
              "      <th>...</th>\n",
              "      <td>...</td>\n",
              "      <td>...</td>\n",
              "      <td>...</td>\n",
              "      <td>...</td>\n",
              "      <td>...</td>\n",
              "      <td>...</td>\n",
              "      <td>...</td>\n",
              "      <td>...</td>\n",
              "      <td>...</td>\n",
              "      <td>...</td>\n",
              "      <td>...</td>\n",
              "      <td>...</td>\n",
              "      <td>...</td>\n",
              "    </tr>\n",
              "    <tr>\n",
              "      <th>19078</th>\n",
              "      <td>2017-12-01</td>\n",
              "      <td>2784</td>\n",
              "      <td>34</td>\n",
              "      <td>Male</td>\n",
              "      <td>C24</td>\n",
              "      <td>College</td>\n",
              "      <td>82815</td>\n",
              "      <td>2012-10-15</td>\n",
              "      <td>NaN</td>\n",
              "      <td>2</td>\n",
              "      <td>3</td>\n",
              "      <td>505480</td>\n",
              "      <td>4</td>\n",
              "    </tr>\n",
              "    <tr>\n",
              "      <th>19081</th>\n",
              "      <td>2017-10-01</td>\n",
              "      <td>2785</td>\n",
              "      <td>34</td>\n",
              "      <td>Female</td>\n",
              "      <td>C9</td>\n",
              "      <td>College</td>\n",
              "      <td>12105</td>\n",
              "      <td>2017-08-28</td>\n",
              "      <td>2017-10-28</td>\n",
              "      <td>1</td>\n",
              "      <td>1</td>\n",
              "      <td>0</td>\n",
              "      <td>1</td>\n",
              "    </tr>\n",
              "    <tr>\n",
              "      <th>19090</th>\n",
              "      <td>2016-09-01</td>\n",
              "      <td>2786</td>\n",
              "      <td>45</td>\n",
              "      <td>Male</td>\n",
              "      <td>C19</td>\n",
              "      <td>College</td>\n",
              "      <td>35370</td>\n",
              "      <td>2015-07-31</td>\n",
              "      <td>2016-09-22</td>\n",
              "      <td>2</td>\n",
              "      <td>2</td>\n",
              "      <td>0</td>\n",
              "      <td>1</td>\n",
              "    </tr>\n",
              "    <tr>\n",
              "      <th>19096</th>\n",
              "      <td>2016-06-01</td>\n",
              "      <td>2787</td>\n",
              "      <td>28</td>\n",
              "      <td>Female</td>\n",
              "      <td>C20</td>\n",
              "      <td>Master</td>\n",
              "      <td>69498</td>\n",
              "      <td>2015-07-21</td>\n",
              "      <td>2016-06-20</td>\n",
              "      <td>1</td>\n",
              "      <td>1</td>\n",
              "      <td>0</td>\n",
              "      <td>1</td>\n",
              "    </tr>\n",
              "    <tr>\n",
              "      <th>19103</th>\n",
              "      <td>2017-12-01</td>\n",
              "      <td>2788</td>\n",
              "      <td>30</td>\n",
              "      <td>Male</td>\n",
              "      <td>C27</td>\n",
              "      <td>Master</td>\n",
              "      <td>70254</td>\n",
              "      <td>2017-06-08</td>\n",
              "      <td>NaN</td>\n",
              "      <td>2</td>\n",
              "      <td>2</td>\n",
              "      <td>411480</td>\n",
              "      <td>2</td>\n",
              "    </tr>\n",
              "  </tbody>\n",
              "</table>\n",
              "<p>2381 rows × 13 columns</p>\n",
              "</div>"
            ],
            "text/plain": [
              "           MMM-YY  Emp_ID  ...  Total Business Value Quarterly Rating\n",
              "2      2016-03-01  1       ...  0                     2              \n",
              "4      2017-12-01  2       ...  0                     1              \n",
              "9      2017-04-01  4       ...  0                     1              \n",
              "12     2016-03-01  5       ...  0                     1              \n",
              "17     2017-12-01  6       ...  0                     2              \n",
              "...           ... ..       ... ..                    ..              \n",
              "19078  2017-12-01  2784    ...  505480                4              \n",
              "19081  2017-10-01  2785    ...  0                     1              \n",
              "19090  2016-09-01  2786    ...  0                     1              \n",
              "19096  2016-06-01  2787    ...  0                     1              \n",
              "19103  2017-12-01  2788    ...  411480                2              \n",
              "\n",
              "[2381 rows x 13 columns]"
            ]
          },
          "metadata": {},
          "execution_count": 168
        }
      ]
    },
    {
      "cell_type": "code",
      "metadata": {
        "id": "OnRAoehfCP3Z"
      },
      "source": [
        "train.reset_index(inplace= True)              # Reset th index"
      ],
      "execution_count": 169,
      "outputs": []
    },
    {
      "cell_type": "code",
      "metadata": {
        "colab": {
          "base_uri": "https://localhost:8080/",
          "height": 423
        },
        "id": "ItM0iZBUF2Yx",
        "outputId": "b11c5447-c4e8-4363-f918-ff0e9516947c"
      },
      "source": [
        "train"
      ],
      "execution_count": 170,
      "outputs": [
        {
          "output_type": "execute_result",
          "data": {
            "text/html": [
              "<div>\n",
              "<style scoped>\n",
              "    .dataframe tbody tr th:only-of-type {\n",
              "        vertical-align: middle;\n",
              "    }\n",
              "\n",
              "    .dataframe tbody tr th {\n",
              "        vertical-align: top;\n",
              "    }\n",
              "\n",
              "    .dataframe thead th {\n",
              "        text-align: right;\n",
              "    }\n",
              "</style>\n",
              "<table border=\"1\" class=\"dataframe\">\n",
              "  <thead>\n",
              "    <tr style=\"text-align: right;\">\n",
              "      <th></th>\n",
              "      <th>index</th>\n",
              "      <th>MMM-YY</th>\n",
              "      <th>Emp_ID</th>\n",
              "      <th>Age</th>\n",
              "      <th>Gender</th>\n",
              "      <th>City</th>\n",
              "      <th>Education_Level</th>\n",
              "      <th>Salary</th>\n",
              "      <th>Dateofjoining</th>\n",
              "      <th>LastWorkingDate</th>\n",
              "      <th>Joining Designation</th>\n",
              "      <th>Designation</th>\n",
              "      <th>Total Business Value</th>\n",
              "      <th>Quarterly Rating</th>\n",
              "    </tr>\n",
              "  </thead>\n",
              "  <tbody>\n",
              "    <tr>\n",
              "      <th>0</th>\n",
              "      <td>2</td>\n",
              "      <td>2016-03-01</td>\n",
              "      <td>1</td>\n",
              "      <td>28</td>\n",
              "      <td>Male</td>\n",
              "      <td>C23</td>\n",
              "      <td>Master</td>\n",
              "      <td>57387</td>\n",
              "      <td>2015-12-24</td>\n",
              "      <td>2016-03-11</td>\n",
              "      <td>1</td>\n",
              "      <td>1</td>\n",
              "      <td>0</td>\n",
              "      <td>2</td>\n",
              "    </tr>\n",
              "    <tr>\n",
              "      <th>1</th>\n",
              "      <td>4</td>\n",
              "      <td>2017-12-01</td>\n",
              "      <td>2</td>\n",
              "      <td>31</td>\n",
              "      <td>Male</td>\n",
              "      <td>C7</td>\n",
              "      <td>Master</td>\n",
              "      <td>67016</td>\n",
              "      <td>2017-11-06</td>\n",
              "      <td>NaN</td>\n",
              "      <td>2</td>\n",
              "      <td>2</td>\n",
              "      <td>0</td>\n",
              "      <td>1</td>\n",
              "    </tr>\n",
              "    <tr>\n",
              "      <th>2</th>\n",
              "      <td>9</td>\n",
              "      <td>2017-04-01</td>\n",
              "      <td>4</td>\n",
              "      <td>43</td>\n",
              "      <td>Male</td>\n",
              "      <td>C13</td>\n",
              "      <td>Master</td>\n",
              "      <td>65603</td>\n",
              "      <td>2016-12-07</td>\n",
              "      <td>2017-04-27</td>\n",
              "      <td>2</td>\n",
              "      <td>2</td>\n",
              "      <td>0</td>\n",
              "      <td>1</td>\n",
              "    </tr>\n",
              "    <tr>\n",
              "      <th>3</th>\n",
              "      <td>12</td>\n",
              "      <td>2016-03-01</td>\n",
              "      <td>5</td>\n",
              "      <td>29</td>\n",
              "      <td>Male</td>\n",
              "      <td>C9</td>\n",
              "      <td>College</td>\n",
              "      <td>46368</td>\n",
              "      <td>2016-01-09</td>\n",
              "      <td>2016-03-07</td>\n",
              "      <td>1</td>\n",
              "      <td>1</td>\n",
              "      <td>0</td>\n",
              "      <td>1</td>\n",
              "    </tr>\n",
              "    <tr>\n",
              "      <th>4</th>\n",
              "      <td>17</td>\n",
              "      <td>2017-12-01</td>\n",
              "      <td>6</td>\n",
              "      <td>31</td>\n",
              "      <td>Female</td>\n",
              "      <td>C11</td>\n",
              "      <td>Bachelor</td>\n",
              "      <td>78728</td>\n",
              "      <td>2017-07-31</td>\n",
              "      <td>NaN</td>\n",
              "      <td>3</td>\n",
              "      <td>3</td>\n",
              "      <td>0</td>\n",
              "      <td>2</td>\n",
              "    </tr>\n",
              "    <tr>\n",
              "      <th>...</th>\n",
              "      <td>...</td>\n",
              "      <td>...</td>\n",
              "      <td>...</td>\n",
              "      <td>...</td>\n",
              "      <td>...</td>\n",
              "      <td>...</td>\n",
              "      <td>...</td>\n",
              "      <td>...</td>\n",
              "      <td>...</td>\n",
              "      <td>...</td>\n",
              "      <td>...</td>\n",
              "      <td>...</td>\n",
              "      <td>...</td>\n",
              "      <td>...</td>\n",
              "    </tr>\n",
              "    <tr>\n",
              "      <th>2376</th>\n",
              "      <td>19078</td>\n",
              "      <td>2017-12-01</td>\n",
              "      <td>2784</td>\n",
              "      <td>34</td>\n",
              "      <td>Male</td>\n",
              "      <td>C24</td>\n",
              "      <td>College</td>\n",
              "      <td>82815</td>\n",
              "      <td>2012-10-15</td>\n",
              "      <td>NaN</td>\n",
              "      <td>2</td>\n",
              "      <td>3</td>\n",
              "      <td>505480</td>\n",
              "      <td>4</td>\n",
              "    </tr>\n",
              "    <tr>\n",
              "      <th>2377</th>\n",
              "      <td>19081</td>\n",
              "      <td>2017-10-01</td>\n",
              "      <td>2785</td>\n",
              "      <td>34</td>\n",
              "      <td>Female</td>\n",
              "      <td>C9</td>\n",
              "      <td>College</td>\n",
              "      <td>12105</td>\n",
              "      <td>2017-08-28</td>\n",
              "      <td>2017-10-28</td>\n",
              "      <td>1</td>\n",
              "      <td>1</td>\n",
              "      <td>0</td>\n",
              "      <td>1</td>\n",
              "    </tr>\n",
              "    <tr>\n",
              "      <th>2378</th>\n",
              "      <td>19090</td>\n",
              "      <td>2016-09-01</td>\n",
              "      <td>2786</td>\n",
              "      <td>45</td>\n",
              "      <td>Male</td>\n",
              "      <td>C19</td>\n",
              "      <td>College</td>\n",
              "      <td>35370</td>\n",
              "      <td>2015-07-31</td>\n",
              "      <td>2016-09-22</td>\n",
              "      <td>2</td>\n",
              "      <td>2</td>\n",
              "      <td>0</td>\n",
              "      <td>1</td>\n",
              "    </tr>\n",
              "    <tr>\n",
              "      <th>2379</th>\n",
              "      <td>19096</td>\n",
              "      <td>2016-06-01</td>\n",
              "      <td>2787</td>\n",
              "      <td>28</td>\n",
              "      <td>Female</td>\n",
              "      <td>C20</td>\n",
              "      <td>Master</td>\n",
              "      <td>69498</td>\n",
              "      <td>2015-07-21</td>\n",
              "      <td>2016-06-20</td>\n",
              "      <td>1</td>\n",
              "      <td>1</td>\n",
              "      <td>0</td>\n",
              "      <td>1</td>\n",
              "    </tr>\n",
              "    <tr>\n",
              "      <th>2380</th>\n",
              "      <td>19103</td>\n",
              "      <td>2017-12-01</td>\n",
              "      <td>2788</td>\n",
              "      <td>30</td>\n",
              "      <td>Male</td>\n",
              "      <td>C27</td>\n",
              "      <td>Master</td>\n",
              "      <td>70254</td>\n",
              "      <td>2017-06-08</td>\n",
              "      <td>NaN</td>\n",
              "      <td>2</td>\n",
              "      <td>2</td>\n",
              "      <td>411480</td>\n",
              "      <td>2</td>\n",
              "    </tr>\n",
              "  </tbody>\n",
              "</table>\n",
              "<p>2381 rows × 14 columns</p>\n",
              "</div>"
            ],
            "text/plain": [
              "      index      MMM-YY  ...  Total Business Value  Quarterly Rating\n",
              "0     2      2016-03-01  ...  0                     2               \n",
              "1     4      2017-12-01  ...  0                     1               \n",
              "2     9      2017-04-01  ...  0                     1               \n",
              "3     12     2016-03-01  ...  0                     1               \n",
              "4     17     2017-12-01  ...  0                     2               \n",
              "...   ..            ...  ... ..                    ..               \n",
              "2376  19078  2017-12-01  ...  505480                4               \n",
              "2377  19081  2017-10-01  ...  0                     1               \n",
              "2378  19090  2016-09-01  ...  0                     1               \n",
              "2379  19096  2016-06-01  ...  0                     1               \n",
              "2380  19103  2017-12-01  ...  411480                2               \n",
              "\n",
              "[2381 rows x 14 columns]"
            ]
          },
          "metadata": {},
          "execution_count": 170
        }
      ]
    },
    {
      "cell_type": "code",
      "metadata": {
        "colab": {
          "base_uri": "https://localhost:8080/"
        },
        "id": "AbaqLKLqF4RI",
        "outputId": "3b94f87b-5ac4-4b0f-fed4-339df936949e"
      },
      "source": [
        "train.info()"
      ],
      "execution_count": 171,
      "outputs": [
        {
          "output_type": "stream",
          "name": "stdout",
          "text": [
            "<class 'pandas.core.frame.DataFrame'>\n",
            "RangeIndex: 2381 entries, 0 to 2380\n",
            "Data columns (total 14 columns):\n",
            " #   Column                Non-Null Count  Dtype \n",
            "---  ------                --------------  ----- \n",
            " 0   index                 2381 non-null   int64 \n",
            " 1   MMM-YY                2381 non-null   object\n",
            " 2   Emp_ID                2381 non-null   int64 \n",
            " 3   Age                   2381 non-null   int64 \n",
            " 4   Gender                2381 non-null   object\n",
            " 5   City                  2381 non-null   object\n",
            " 6   Education_Level       2381 non-null   object\n",
            " 7   Salary                2381 non-null   int64 \n",
            " 8   Dateofjoining         2381 non-null   object\n",
            " 9   LastWorkingDate       1616 non-null   object\n",
            " 10  Joining Designation   2381 non-null   int64 \n",
            " 11  Designation           2381 non-null   int64 \n",
            " 12  Total Business Value  2381 non-null   int64 \n",
            " 13  Quarterly Rating      2381 non-null   int64 \n",
            "dtypes: int64(8), object(6)\n",
            "memory usage: 260.5+ KB\n"
          ]
        }
      ]
    },
    {
      "cell_type": "code",
      "metadata": {
        "colab": {
          "base_uri": "https://localhost:8080/"
        },
        "id": "TE-P5k_GF-81",
        "outputId": "fee9a9ca-1186-4cd7-8900-f64cf630d6bd"
      },
      "source": [
        "train.isnull().sum()"
      ],
      "execution_count": 172,
      "outputs": [
        {
          "output_type": "execute_result",
          "data": {
            "text/plain": [
              "index                   0  \n",
              "MMM-YY                  0  \n",
              "Emp_ID                  0  \n",
              "Age                     0  \n",
              "Gender                  0  \n",
              "City                    0  \n",
              "Education_Level         0  \n",
              "Salary                  0  \n",
              "Dateofjoining           0  \n",
              "LastWorkingDate         765\n",
              "Joining Designation     0  \n",
              "Designation             0  \n",
              "Total Business Value    0  \n",
              "Quarterly Rating        0  \n",
              "dtype: int64"
            ]
          },
          "metadata": {},
          "execution_count": 172
        }
      ]
    },
    {
      "cell_type": "code",
      "metadata": {
        "id": "ybMxIwZ0NPwF"
      },
      "source": [
        "train['LastWorkingDate'] = train['LastWorkingDate'].fillna(0)            # Filling the Null values with 0"
      ],
      "execution_count": 173,
      "outputs": []
    },
    {
      "cell_type": "code",
      "metadata": {
        "colab": {
          "base_uri": "https://localhost:8080/",
          "height": 423
        },
        "id": "AT-8Lp_0NP4W",
        "outputId": "7cbaa603-6467-44d5-aa44-b7d4e6bd9db0"
      },
      "source": [
        "train"
      ],
      "execution_count": 174,
      "outputs": [
        {
          "output_type": "execute_result",
          "data": {
            "text/html": [
              "<div>\n",
              "<style scoped>\n",
              "    .dataframe tbody tr th:only-of-type {\n",
              "        vertical-align: middle;\n",
              "    }\n",
              "\n",
              "    .dataframe tbody tr th {\n",
              "        vertical-align: top;\n",
              "    }\n",
              "\n",
              "    .dataframe thead th {\n",
              "        text-align: right;\n",
              "    }\n",
              "</style>\n",
              "<table border=\"1\" class=\"dataframe\">\n",
              "  <thead>\n",
              "    <tr style=\"text-align: right;\">\n",
              "      <th></th>\n",
              "      <th>index</th>\n",
              "      <th>MMM-YY</th>\n",
              "      <th>Emp_ID</th>\n",
              "      <th>Age</th>\n",
              "      <th>Gender</th>\n",
              "      <th>City</th>\n",
              "      <th>Education_Level</th>\n",
              "      <th>Salary</th>\n",
              "      <th>Dateofjoining</th>\n",
              "      <th>LastWorkingDate</th>\n",
              "      <th>Joining Designation</th>\n",
              "      <th>Designation</th>\n",
              "      <th>Total Business Value</th>\n",
              "      <th>Quarterly Rating</th>\n",
              "    </tr>\n",
              "  </thead>\n",
              "  <tbody>\n",
              "    <tr>\n",
              "      <th>0</th>\n",
              "      <td>2</td>\n",
              "      <td>2016-03-01</td>\n",
              "      <td>1</td>\n",
              "      <td>28</td>\n",
              "      <td>Male</td>\n",
              "      <td>C23</td>\n",
              "      <td>Master</td>\n",
              "      <td>57387</td>\n",
              "      <td>2015-12-24</td>\n",
              "      <td>2016-03-11</td>\n",
              "      <td>1</td>\n",
              "      <td>1</td>\n",
              "      <td>0</td>\n",
              "      <td>2</td>\n",
              "    </tr>\n",
              "    <tr>\n",
              "      <th>1</th>\n",
              "      <td>4</td>\n",
              "      <td>2017-12-01</td>\n",
              "      <td>2</td>\n",
              "      <td>31</td>\n",
              "      <td>Male</td>\n",
              "      <td>C7</td>\n",
              "      <td>Master</td>\n",
              "      <td>67016</td>\n",
              "      <td>2017-11-06</td>\n",
              "      <td>0</td>\n",
              "      <td>2</td>\n",
              "      <td>2</td>\n",
              "      <td>0</td>\n",
              "      <td>1</td>\n",
              "    </tr>\n",
              "    <tr>\n",
              "      <th>2</th>\n",
              "      <td>9</td>\n",
              "      <td>2017-04-01</td>\n",
              "      <td>4</td>\n",
              "      <td>43</td>\n",
              "      <td>Male</td>\n",
              "      <td>C13</td>\n",
              "      <td>Master</td>\n",
              "      <td>65603</td>\n",
              "      <td>2016-12-07</td>\n",
              "      <td>2017-04-27</td>\n",
              "      <td>2</td>\n",
              "      <td>2</td>\n",
              "      <td>0</td>\n",
              "      <td>1</td>\n",
              "    </tr>\n",
              "    <tr>\n",
              "      <th>3</th>\n",
              "      <td>12</td>\n",
              "      <td>2016-03-01</td>\n",
              "      <td>5</td>\n",
              "      <td>29</td>\n",
              "      <td>Male</td>\n",
              "      <td>C9</td>\n",
              "      <td>College</td>\n",
              "      <td>46368</td>\n",
              "      <td>2016-01-09</td>\n",
              "      <td>2016-03-07</td>\n",
              "      <td>1</td>\n",
              "      <td>1</td>\n",
              "      <td>0</td>\n",
              "      <td>1</td>\n",
              "    </tr>\n",
              "    <tr>\n",
              "      <th>4</th>\n",
              "      <td>17</td>\n",
              "      <td>2017-12-01</td>\n",
              "      <td>6</td>\n",
              "      <td>31</td>\n",
              "      <td>Female</td>\n",
              "      <td>C11</td>\n",
              "      <td>Bachelor</td>\n",
              "      <td>78728</td>\n",
              "      <td>2017-07-31</td>\n",
              "      <td>0</td>\n",
              "      <td>3</td>\n",
              "      <td>3</td>\n",
              "      <td>0</td>\n",
              "      <td>2</td>\n",
              "    </tr>\n",
              "    <tr>\n",
              "      <th>...</th>\n",
              "      <td>...</td>\n",
              "      <td>...</td>\n",
              "      <td>...</td>\n",
              "      <td>...</td>\n",
              "      <td>...</td>\n",
              "      <td>...</td>\n",
              "      <td>...</td>\n",
              "      <td>...</td>\n",
              "      <td>...</td>\n",
              "      <td>...</td>\n",
              "      <td>...</td>\n",
              "      <td>...</td>\n",
              "      <td>...</td>\n",
              "      <td>...</td>\n",
              "    </tr>\n",
              "    <tr>\n",
              "      <th>2376</th>\n",
              "      <td>19078</td>\n",
              "      <td>2017-12-01</td>\n",
              "      <td>2784</td>\n",
              "      <td>34</td>\n",
              "      <td>Male</td>\n",
              "      <td>C24</td>\n",
              "      <td>College</td>\n",
              "      <td>82815</td>\n",
              "      <td>2012-10-15</td>\n",
              "      <td>0</td>\n",
              "      <td>2</td>\n",
              "      <td>3</td>\n",
              "      <td>505480</td>\n",
              "      <td>4</td>\n",
              "    </tr>\n",
              "    <tr>\n",
              "      <th>2377</th>\n",
              "      <td>19081</td>\n",
              "      <td>2017-10-01</td>\n",
              "      <td>2785</td>\n",
              "      <td>34</td>\n",
              "      <td>Female</td>\n",
              "      <td>C9</td>\n",
              "      <td>College</td>\n",
              "      <td>12105</td>\n",
              "      <td>2017-08-28</td>\n",
              "      <td>2017-10-28</td>\n",
              "      <td>1</td>\n",
              "      <td>1</td>\n",
              "      <td>0</td>\n",
              "      <td>1</td>\n",
              "    </tr>\n",
              "    <tr>\n",
              "      <th>2378</th>\n",
              "      <td>19090</td>\n",
              "      <td>2016-09-01</td>\n",
              "      <td>2786</td>\n",
              "      <td>45</td>\n",
              "      <td>Male</td>\n",
              "      <td>C19</td>\n",
              "      <td>College</td>\n",
              "      <td>35370</td>\n",
              "      <td>2015-07-31</td>\n",
              "      <td>2016-09-22</td>\n",
              "      <td>2</td>\n",
              "      <td>2</td>\n",
              "      <td>0</td>\n",
              "      <td>1</td>\n",
              "    </tr>\n",
              "    <tr>\n",
              "      <th>2379</th>\n",
              "      <td>19096</td>\n",
              "      <td>2016-06-01</td>\n",
              "      <td>2787</td>\n",
              "      <td>28</td>\n",
              "      <td>Female</td>\n",
              "      <td>C20</td>\n",
              "      <td>Master</td>\n",
              "      <td>69498</td>\n",
              "      <td>2015-07-21</td>\n",
              "      <td>2016-06-20</td>\n",
              "      <td>1</td>\n",
              "      <td>1</td>\n",
              "      <td>0</td>\n",
              "      <td>1</td>\n",
              "    </tr>\n",
              "    <tr>\n",
              "      <th>2380</th>\n",
              "      <td>19103</td>\n",
              "      <td>2017-12-01</td>\n",
              "      <td>2788</td>\n",
              "      <td>30</td>\n",
              "      <td>Male</td>\n",
              "      <td>C27</td>\n",
              "      <td>Master</td>\n",
              "      <td>70254</td>\n",
              "      <td>2017-06-08</td>\n",
              "      <td>0</td>\n",
              "      <td>2</td>\n",
              "      <td>2</td>\n",
              "      <td>411480</td>\n",
              "      <td>2</td>\n",
              "    </tr>\n",
              "  </tbody>\n",
              "</table>\n",
              "<p>2381 rows × 14 columns</p>\n",
              "</div>"
            ],
            "text/plain": [
              "      index      MMM-YY  ...  Total Business Value  Quarterly Rating\n",
              "0     2      2016-03-01  ...  0                     2               \n",
              "1     4      2017-12-01  ...  0                     1               \n",
              "2     9      2017-04-01  ...  0                     1               \n",
              "3     12     2016-03-01  ...  0                     1               \n",
              "4     17     2017-12-01  ...  0                     2               \n",
              "...   ..            ...  ... ..                    ..               \n",
              "2376  19078  2017-12-01  ...  505480                4               \n",
              "2377  19081  2017-10-01  ...  0                     1               \n",
              "2378  19090  2016-09-01  ...  0                     1               \n",
              "2379  19096  2016-06-01  ...  0                     1               \n",
              "2380  19103  2017-12-01  ...  411480                2               \n",
              "\n",
              "[2381 rows x 14 columns]"
            ]
          },
          "metadata": {},
          "execution_count": 174
        }
      ]
    },
    {
      "cell_type": "code",
      "metadata": {
        "id": "4rg-whqTc4SG"
      },
      "source": [
        "# Function to get Target variable\n",
        "def LastWorkingDate_to_label(x):\n",
        "  if(x == 0):\n",
        "    return 0\n",
        "  if(x != 0):\n",
        "    return 1"
      ],
      "execution_count": 175,
      "outputs": []
    },
    {
      "cell_type": "code",
      "metadata": {
        "id": "DaZaFtapJklK"
      },
      "source": [
        "# Applying Functions\n",
        "train.LastWorkingDate = train.LastWorkingDate.apply(LastWorkingDate_to_label)          "
      ],
      "execution_count": 176,
      "outputs": []
    },
    {
      "cell_type": "code",
      "metadata": {
        "colab": {
          "base_uri": "https://localhost:8080/",
          "height": 423
        },
        "id": "fQG_2tp8JyfZ",
        "outputId": "45e72ead-ef43-43e7-a2bd-b6212459b0bf"
      },
      "source": [
        "train"
      ],
      "execution_count": 177,
      "outputs": [
        {
          "output_type": "execute_result",
          "data": {
            "text/html": [
              "<div>\n",
              "<style scoped>\n",
              "    .dataframe tbody tr th:only-of-type {\n",
              "        vertical-align: middle;\n",
              "    }\n",
              "\n",
              "    .dataframe tbody tr th {\n",
              "        vertical-align: top;\n",
              "    }\n",
              "\n",
              "    .dataframe thead th {\n",
              "        text-align: right;\n",
              "    }\n",
              "</style>\n",
              "<table border=\"1\" class=\"dataframe\">\n",
              "  <thead>\n",
              "    <tr style=\"text-align: right;\">\n",
              "      <th></th>\n",
              "      <th>index</th>\n",
              "      <th>MMM-YY</th>\n",
              "      <th>Emp_ID</th>\n",
              "      <th>Age</th>\n",
              "      <th>Gender</th>\n",
              "      <th>City</th>\n",
              "      <th>Education_Level</th>\n",
              "      <th>Salary</th>\n",
              "      <th>Dateofjoining</th>\n",
              "      <th>LastWorkingDate</th>\n",
              "      <th>Joining Designation</th>\n",
              "      <th>Designation</th>\n",
              "      <th>Total Business Value</th>\n",
              "      <th>Quarterly Rating</th>\n",
              "    </tr>\n",
              "  </thead>\n",
              "  <tbody>\n",
              "    <tr>\n",
              "      <th>0</th>\n",
              "      <td>2</td>\n",
              "      <td>2016-03-01</td>\n",
              "      <td>1</td>\n",
              "      <td>28</td>\n",
              "      <td>Male</td>\n",
              "      <td>C23</td>\n",
              "      <td>Master</td>\n",
              "      <td>57387</td>\n",
              "      <td>2015-12-24</td>\n",
              "      <td>1</td>\n",
              "      <td>1</td>\n",
              "      <td>1</td>\n",
              "      <td>0</td>\n",
              "      <td>2</td>\n",
              "    </tr>\n",
              "    <tr>\n",
              "      <th>1</th>\n",
              "      <td>4</td>\n",
              "      <td>2017-12-01</td>\n",
              "      <td>2</td>\n",
              "      <td>31</td>\n",
              "      <td>Male</td>\n",
              "      <td>C7</td>\n",
              "      <td>Master</td>\n",
              "      <td>67016</td>\n",
              "      <td>2017-11-06</td>\n",
              "      <td>0</td>\n",
              "      <td>2</td>\n",
              "      <td>2</td>\n",
              "      <td>0</td>\n",
              "      <td>1</td>\n",
              "    </tr>\n",
              "    <tr>\n",
              "      <th>2</th>\n",
              "      <td>9</td>\n",
              "      <td>2017-04-01</td>\n",
              "      <td>4</td>\n",
              "      <td>43</td>\n",
              "      <td>Male</td>\n",
              "      <td>C13</td>\n",
              "      <td>Master</td>\n",
              "      <td>65603</td>\n",
              "      <td>2016-12-07</td>\n",
              "      <td>1</td>\n",
              "      <td>2</td>\n",
              "      <td>2</td>\n",
              "      <td>0</td>\n",
              "      <td>1</td>\n",
              "    </tr>\n",
              "    <tr>\n",
              "      <th>3</th>\n",
              "      <td>12</td>\n",
              "      <td>2016-03-01</td>\n",
              "      <td>5</td>\n",
              "      <td>29</td>\n",
              "      <td>Male</td>\n",
              "      <td>C9</td>\n",
              "      <td>College</td>\n",
              "      <td>46368</td>\n",
              "      <td>2016-01-09</td>\n",
              "      <td>1</td>\n",
              "      <td>1</td>\n",
              "      <td>1</td>\n",
              "      <td>0</td>\n",
              "      <td>1</td>\n",
              "    </tr>\n",
              "    <tr>\n",
              "      <th>4</th>\n",
              "      <td>17</td>\n",
              "      <td>2017-12-01</td>\n",
              "      <td>6</td>\n",
              "      <td>31</td>\n",
              "      <td>Female</td>\n",
              "      <td>C11</td>\n",
              "      <td>Bachelor</td>\n",
              "      <td>78728</td>\n",
              "      <td>2017-07-31</td>\n",
              "      <td>0</td>\n",
              "      <td>3</td>\n",
              "      <td>3</td>\n",
              "      <td>0</td>\n",
              "      <td>2</td>\n",
              "    </tr>\n",
              "    <tr>\n",
              "      <th>...</th>\n",
              "      <td>...</td>\n",
              "      <td>...</td>\n",
              "      <td>...</td>\n",
              "      <td>...</td>\n",
              "      <td>...</td>\n",
              "      <td>...</td>\n",
              "      <td>...</td>\n",
              "      <td>...</td>\n",
              "      <td>...</td>\n",
              "      <td>...</td>\n",
              "      <td>...</td>\n",
              "      <td>...</td>\n",
              "      <td>...</td>\n",
              "      <td>...</td>\n",
              "    </tr>\n",
              "    <tr>\n",
              "      <th>2376</th>\n",
              "      <td>19078</td>\n",
              "      <td>2017-12-01</td>\n",
              "      <td>2784</td>\n",
              "      <td>34</td>\n",
              "      <td>Male</td>\n",
              "      <td>C24</td>\n",
              "      <td>College</td>\n",
              "      <td>82815</td>\n",
              "      <td>2012-10-15</td>\n",
              "      <td>0</td>\n",
              "      <td>2</td>\n",
              "      <td>3</td>\n",
              "      <td>505480</td>\n",
              "      <td>4</td>\n",
              "    </tr>\n",
              "    <tr>\n",
              "      <th>2377</th>\n",
              "      <td>19081</td>\n",
              "      <td>2017-10-01</td>\n",
              "      <td>2785</td>\n",
              "      <td>34</td>\n",
              "      <td>Female</td>\n",
              "      <td>C9</td>\n",
              "      <td>College</td>\n",
              "      <td>12105</td>\n",
              "      <td>2017-08-28</td>\n",
              "      <td>1</td>\n",
              "      <td>1</td>\n",
              "      <td>1</td>\n",
              "      <td>0</td>\n",
              "      <td>1</td>\n",
              "    </tr>\n",
              "    <tr>\n",
              "      <th>2378</th>\n",
              "      <td>19090</td>\n",
              "      <td>2016-09-01</td>\n",
              "      <td>2786</td>\n",
              "      <td>45</td>\n",
              "      <td>Male</td>\n",
              "      <td>C19</td>\n",
              "      <td>College</td>\n",
              "      <td>35370</td>\n",
              "      <td>2015-07-31</td>\n",
              "      <td>1</td>\n",
              "      <td>2</td>\n",
              "      <td>2</td>\n",
              "      <td>0</td>\n",
              "      <td>1</td>\n",
              "    </tr>\n",
              "    <tr>\n",
              "      <th>2379</th>\n",
              "      <td>19096</td>\n",
              "      <td>2016-06-01</td>\n",
              "      <td>2787</td>\n",
              "      <td>28</td>\n",
              "      <td>Female</td>\n",
              "      <td>C20</td>\n",
              "      <td>Master</td>\n",
              "      <td>69498</td>\n",
              "      <td>2015-07-21</td>\n",
              "      <td>1</td>\n",
              "      <td>1</td>\n",
              "      <td>1</td>\n",
              "      <td>0</td>\n",
              "      <td>1</td>\n",
              "    </tr>\n",
              "    <tr>\n",
              "      <th>2380</th>\n",
              "      <td>19103</td>\n",
              "      <td>2017-12-01</td>\n",
              "      <td>2788</td>\n",
              "      <td>30</td>\n",
              "      <td>Male</td>\n",
              "      <td>C27</td>\n",
              "      <td>Master</td>\n",
              "      <td>70254</td>\n",
              "      <td>2017-06-08</td>\n",
              "      <td>0</td>\n",
              "      <td>2</td>\n",
              "      <td>2</td>\n",
              "      <td>411480</td>\n",
              "      <td>2</td>\n",
              "    </tr>\n",
              "  </tbody>\n",
              "</table>\n",
              "<p>2381 rows × 14 columns</p>\n",
              "</div>"
            ],
            "text/plain": [
              "      index      MMM-YY  ...  Total Business Value  Quarterly Rating\n",
              "0     2      2016-03-01  ...  0                     2               \n",
              "1     4      2017-12-01  ...  0                     1               \n",
              "2     9      2017-04-01  ...  0                     1               \n",
              "3     12     2016-03-01  ...  0                     1               \n",
              "4     17     2017-12-01  ...  0                     2               \n",
              "...   ..            ...  ... ..                    ..               \n",
              "2376  19078  2017-12-01  ...  505480                4               \n",
              "2377  19081  2017-10-01  ...  0                     1               \n",
              "2378  19090  2016-09-01  ...  0                     1               \n",
              "2379  19096  2016-06-01  ...  0                     1               \n",
              "2380  19103  2017-12-01  ...  411480                2               \n",
              "\n",
              "[2381 rows x 14 columns]"
            ]
          },
          "metadata": {},
          "execution_count": 177
        }
      ]
    },
    {
      "cell_type": "code",
      "metadata": {
        "colab": {
          "base_uri": "https://localhost:8080/"
        },
        "id": "f811L1z5LD7I",
        "outputId": "e034a6ad-b4da-46c0-a0da-2dcb3b47c39b"
      },
      "source": [
        "train.LastWorkingDate.value_counts()"
      ],
      "execution_count": 178,
      "outputs": [
        {
          "output_type": "execute_result",
          "data": {
            "text/plain": [
              "1    1616\n",
              "0    765 \n",
              "Name: LastWorkingDate, dtype: int64"
            ]
          },
          "metadata": {},
          "execution_count": 178
        }
      ]
    },
    {
      "cell_type": "code",
      "metadata": {
        "colab": {
          "base_uri": "https://localhost:8080/",
          "height": 276
        },
        "id": "tdVUGw18eRd-",
        "outputId": "1cf534e7-3fd1-452d-aa34-81a90e00a762"
      },
      "source": [
        "train['LastWorkingDate'].value_counts(normalize=True).plot(kind='bar')"
      ],
      "execution_count": 179,
      "outputs": [
        {
          "output_type": "execute_result",
          "data": {
            "text/plain": [
              "<matplotlib.axes._subplots.AxesSubplot at 0x7f8a230e9490>"
            ]
          },
          "metadata": {},
          "execution_count": 179
        },
        {
          "output_type": "display_data",
          "data": {
            "image/png": "[encoded data removed]",
            "text/plain": [
              "<Figure size 432x288 with 1 Axes>"
            ]
          },
          "metadata": {}
        }
      ]
    },
    {
      "cell_type": "markdown",
      "metadata": {
        "id": "WZFa0FxpfBni"
      },
      "source": [
        "# **EDA (Exploratory Data Analysis)**"
      ]
    },
    {
      "cell_type": "code",
      "metadata": {
        "colab": {
          "base_uri": "https://localhost:8080/"
        },
        "id": "zk1s4p5heqw1",
        "outputId": "39f1eb09-e3b2-429c-97a9-eab7c992e27b"
      },
      "source": [
        "#Count of observations in each category\n",
        "n = ['Gender','City','Education_Level','Joining Designation','Designation','Quarterly Rating']\n",
        "\n",
        "for i in n:\n",
        "    print(train[i].value_counts())"
      ],
      "execution_count": 180,
      "outputs": [
        {
          "output_type": "stream",
          "name": "stdout",
          "text": [
            "Male      1404\n",
            "Female    977 \n",
            "Name: Gender, dtype: int64\n",
            "C20    152\n",
            "C15    101\n",
            "C29    96 \n",
            "C26    93 \n",
            "C27    89 \n",
            "C8     89 \n",
            "C10    86 \n",
            "C16    84 \n",
            "C22    82 \n",
            "C3     82 \n",
            "C28    82 \n",
            "C12    81 \n",
            "C5     80 \n",
            "C1     80 \n",
            "C21    79 \n",
            "C14    79 \n",
            "C6     78 \n",
            "C4     77 \n",
            "C7     76 \n",
            "C9     75 \n",
            "C25    74 \n",
            "C23    74 \n",
            "C24    73 \n",
            "C2     72 \n",
            "C19    72 \n",
            "C17    71 \n",
            "C13    71 \n",
            "C18    69 \n",
            "C11    64 \n",
            "Name: City, dtype: int64\n",
            "Master      802\n",
            "Bachelor    795\n",
            "College     784\n",
            "Name: Education_Level, dtype: int64\n",
            "1    1026\n",
            "2    815 \n",
            "3    493 \n",
            "4    36  \n",
            "5    11  \n",
            "Name: Joining Designation, dtype: int64\n",
            "2    855\n",
            "1    741\n",
            "3    623\n",
            "4    138\n",
            "5    24 \n",
            "Name: Designation, dtype: int64\n",
            "1    1744\n",
            "2    362 \n",
            "3    168 \n",
            "4    107 \n",
            "Name: Quarterly Rating, dtype: int64\n"
          ]
        }
      ]
    },
    {
      "cell_type": "markdown",
      "metadata": {
        "id": "-FL-m2bZi3sp"
      },
      "source": [
        "# **Univariate**"
      ]
    },
    {
      "cell_type": "code",
      "metadata": {
        "colab": {
          "base_uri": "https://localhost:8080/",
          "height": 318
        },
        "id": "ErNA8zoZeyXk",
        "outputId": "0e78c98a-6aa4-4b14-ae68-ff23be786a2e"
      },
      "source": [
        "n = ['Gender','City','Education_Level','Joining Designation','Designation','Quarterly Rating']\n",
        "\n",
        "train['Gender'].value_counts(normalize=True).plot.bar(title='Gender')"
      ],
      "execution_count": 181,
      "outputs": [
        {
          "output_type": "execute_result",
          "data": {
            "text/plain": [
              "<matplotlib.axes._subplots.AxesSubplot at 0x7f8a23066b90>"
            ]
          },
          "metadata": {},
          "execution_count": 181
        },
        {
          "output_type": "display_data",
          "data": {
            "image/png": "[encoded data removed]",
            "text/plain": [
              "<Figure size 432x288 with 1 Axes>"
            ]
          },
          "metadata": {}
        }
      ]
    },
    {
      "cell_type": "code",
      "metadata": {
        "colab": {
          "base_uri": "https://localhost:8080/",
          "height": 324
        },
        "id": "yRSgZ_h5iaNN",
        "outputId": "4f586555-5c73-43a4-9a24-493fc90c4798"
      },
      "source": [
        "train['Education_Level'].value_counts(normalize=True).plot.bar(title='Education_Level')"
      ],
      "execution_count": 182,
      "outputs": [
        {
          "output_type": "execute_result",
          "data": {
            "text/plain": [
              "<matplotlib.axes._subplots.AxesSubplot at 0x7f8a23045e50>"
            ]
          },
          "metadata": {},
          "execution_count": 182
        },
        {
          "output_type": "display_data",
          "data": {
            "image/png": "[encoded data removed]",
            "text/plain": [
              "<Figure size 432x288 with 1 Axes>"
            ]
          },
          "metadata": {}
        }
      ]
    },
    {
      "cell_type": "code",
      "metadata": {
        "colab": {
          "base_uri": "https://localhost:8080/",
          "height": 290
        },
        "id": "qqEIqcCdiaQ3",
        "outputId": "282ae2ca-255e-4289-d32b-9f2ef238d2ba"
      },
      "source": [
        "train['Joining Designation'].value_counts(normalize=True).plot.bar(title='Joining Designation')"
      ],
      "execution_count": 183,
      "outputs": [
        {
          "output_type": "execute_result",
          "data": {
            "text/plain": [
              "<matplotlib.axes._subplots.AxesSubplot at 0x7f8a22fba910>"
            ]
          },
          "metadata": {},
          "execution_count": 183
        },
        {
          "output_type": "display_data",
          "data": {
            "image/png": "[encoded data removed]",
            "text/plain": [
              "<Figure size 432x288 with 1 Axes>"
            ]
          },
          "metadata": {}
        }
      ]
    },
    {
      "cell_type": "code",
      "metadata": {
        "colab": {
          "base_uri": "https://localhost:8080/",
          "height": 290
        },
        "id": "ofZh_OE-iaVU",
        "outputId": "8ea22945-1ede-434c-87d5-040c4868b52d"
      },
      "source": [
        "train['Designation'].value_counts(normalize=True).plot.bar(title='Designation')"
      ],
      "execution_count": 184,
      "outputs": [
        {
          "output_type": "execute_result",
          "data": {
            "text/plain": [
              "<matplotlib.axes._subplots.AxesSubplot at 0x7f8a22f2ac10>"
            ]
          },
          "metadata": {},
          "execution_count": 184
        },
        {
          "output_type": "display_data",
          "data": {
            "image/png": "[encoded data removed]",
            "text/plain": [
              "<Figure size 432x288 with 1 Axes>"
            ]
          },
          "metadata": {}
        }
      ]
    },
    {
      "cell_type": "code",
      "metadata": {
        "colab": {
          "base_uri": "https://localhost:8080/",
          "height": 290
        },
        "id": "X84t0oSNiadU",
        "outputId": "d22a399b-b22c-467e-956f-9307dff0bc57"
      },
      "source": [
        "train['Quarterly Rating'].value_counts(normalize=True).plot.bar(title='Quarterly Rating')"
      ],
      "execution_count": 185,
      "outputs": [
        {
          "output_type": "execute_result",
          "data": {
            "text/plain": [
              "<matplotlib.axes._subplots.AxesSubplot at 0x7f8a22e96bd0>"
            ]
          },
          "metadata": {},
          "execution_count": 185
        },
        {
          "output_type": "display_data",
          "data": {
            "image/png": "[encoded data removed]",
            "text/plain": [
              "<Figure size 432x288 with 1 Axes>"
            ]
          },
          "metadata": {}
        }
      ]
    },
    {
      "cell_type": "code",
      "metadata": {
        "colab": {
          "base_uri": "https://localhost:8080/",
          "height": 303
        },
        "id": "p2kwWgdKe6ac",
        "outputId": "65100a90-efda-4d2a-b215-e31b5e39b191"
      },
      "source": [
        "train['City'].value_counts(normalize=True).plot.bar(title='City')"
      ],
      "execution_count": 186,
      "outputs": [
        {
          "output_type": "execute_result",
          "data": {
            "text/plain": [
              "<matplotlib.axes._subplots.AxesSubplot at 0x7f8a22e82ad0>"
            ]
          },
          "metadata": {},
          "execution_count": 186
        },
        {
          "output_type": "display_data",
          "data": {
            "image/png": "[encoded data removed]",
            "text/plain": [
              "<Figure size 432x288 with 1 Axes>"
            ]
          },
          "metadata": {}
        }
      ]
    },
    {
      "cell_type": "markdown",
      "metadata": {
        "id": "1t71U8C_jREf"
      },
      "source": [
        "# Continous Columns: Age, Monthly Income ,Total Business Value"
      ]
    },
    {
      "cell_type": "code",
      "metadata": {
        "colab": {
          "base_uri": "https://localhost:8080/",
          "height": 310
        },
        "id": "CqNOA59je91F",
        "outputId": "121356d2-ffb6-4d98-af84-f540b6d2c603"
      },
      "source": [
        "sns.distplot(train['Age'])\n",
        "plt.title(\"Age\")"
      ],
      "execution_count": 187,
      "outputs": [
        {
          "output_type": "execute_result",
          "data": {
            "text/plain": [
              "<matplotlib.axes._subplots.AxesSubplot at 0x7f8a22d77190>"
            ]
          },
          "metadata": {},
          "execution_count": 187
        },
        {
          "output_type": "execute_result",
          "data": {
            "text/plain": [
              "Text(0.5, 1.0, 'Age')"
            ]
          },
          "metadata": {},
          "execution_count": 187
        },
        {
          "output_type": "display_data",
          "data": {
            "image/png": "[encoded data removed]",
            "text/plain": [
              "<Figure size 432x288 with 1 Axes>"
            ]
          },
          "metadata": {}
        }
      ]
    },
    {
      "cell_type": "code",
      "metadata": {
        "colab": {
          "base_uri": "https://localhost:8080/",
          "height": 295
        },
        "id": "vFAXqmrGjgxD",
        "outputId": "b8166fc7-cdb9-412d-b6f6-619ceb9b7066"
      },
      "source": [
        "train['Age'].plot.box(title='Age Boxplot')"
      ],
      "execution_count": 188,
      "outputs": [
        {
          "output_type": "execute_result",
          "data": {
            "text/plain": [
              "<matplotlib.axes._subplots.AxesSubplot at 0x7f8a22ca9990>"
            ]
          },
          "metadata": {},
          "execution_count": 188
        },
        {
          "output_type": "display_data",
          "data": {
            "image/png": "[encoded data removed]",
            "text/plain": [
              "<Figure size 432x288 with 1 Axes>"
            ]
          },
          "metadata": {}
        }
      ]
    },
    {
      "cell_type": "code",
      "metadata": {
        "colab": {
          "base_uri": "https://localhost:8080/",
          "height": 310
        },
        "id": "CbABhysce9-j",
        "outputId": "578b4c63-1db6-43d8-a8b1-f1c8cec5180b"
      },
      "source": [
        "sns.distplot(train['Salary'])\n",
        "plt.title(\"Salary\")"
      ],
      "execution_count": 189,
      "outputs": [
        {
          "output_type": "execute_result",
          "data": {
            "text/plain": [
              "<matplotlib.axes._subplots.AxesSubplot at 0x7f8a22dc9f10>"
            ]
          },
          "metadata": {},
          "execution_count": 189
        },
        {
          "output_type": "execute_result",
          "data": {
            "text/plain": [
              "Text(0.5, 1.0, 'Salary')"
            ]
          },
          "metadata": {},
          "execution_count": 189
        },
        {
          "output_type": "display_data",
          "data": {
            "image/png": "[encoded data removed]",
            "text/plain": [
              "<Figure size 432x288 with 1 Axes>"
            ]
          },
          "metadata": {}
        }
      ]
    },
    {
      "cell_type": "code",
      "metadata": {
        "colab": {
          "base_uri": "https://localhost:8080/",
          "height": 295
        },
        "id": "_ONgfU6Wjtf7",
        "outputId": "002e5dab-6def-47b5-f2b8-cbdfc5a757c8"
      },
      "source": [
        "train['Salary'].plot.box(title='Salary Boxplot')"
      ],
      "execution_count": 190,
      "outputs": [
        {
          "output_type": "execute_result",
          "data": {
            "text/plain": [
              "<matplotlib.axes._subplots.AxesSubplot at 0x7f8a22b8fc10>"
            ]
          },
          "metadata": {},
          "execution_count": 190
        },
        {
          "output_type": "display_data",
          "data": {
            "image/png": "[encoded data removed]",
            "text/plain": [
              "<Figure size 432x288 with 1 Axes>"
            ]
          },
          "metadata": {}
        }
      ]
    },
    {
      "cell_type": "code",
      "metadata": {
        "colab": {
          "base_uri": "https://localhost:8080/",
          "height": 310
        },
        "id": "uH6kPL20e-BW",
        "outputId": "4c60699b-01ff-46ed-b5ad-6151d7d736a2"
      },
      "source": [
        "sns.distplot(train['Total Business Value'])\n",
        "plt.title(\"Total Business Value\")"
      ],
      "execution_count": 191,
      "outputs": [
        {
          "output_type": "execute_result",
          "data": {
            "text/plain": [
              "<matplotlib.axes._subplots.AxesSubplot at 0x7f8a22b31b90>"
            ]
          },
          "metadata": {},
          "execution_count": 191
        },
        {
          "output_type": "execute_result",
          "data": {
            "text/plain": [
              "Text(0.5, 1.0, 'Total Business Value')"
            ]
          },
          "metadata": {},
          "execution_count": 191
        },
        {
          "output_type": "display_data",
          "data": {
            "image/png": "[encoded data removed]",
            "text/plain": [
              "<Figure size 432x288 with 1 Axes>"
            ]
          },
          "metadata": {}
        }
      ]
    },
    {
      "cell_type": "code",
      "metadata": {
        "colab": {
          "base_uri": "https://localhost:8080/",
          "height": 295
        },
        "id": "b_tvob3Aj0d7",
        "outputId": "931f4496-497a-4479-b9c6-5e1c567bf9a9"
      },
      "source": [
        "train['Total Business Value'].plot.box(title='Total Business Value Boxplot')"
      ],
      "execution_count": 192,
      "outputs": [
        {
          "output_type": "execute_result",
          "data": {
            "text/plain": [
              "<matplotlib.axes._subplots.AxesSubplot at 0x7f8a22b5ba90>"
            ]
          },
          "metadata": {},
          "execution_count": 192
        },
        {
          "output_type": "display_data",
          "data": {
            "image/png": "[encoded data removed]",
            "text/plain": [
              "<Figure size 432x288 with 1 Axes>"
            ]
          },
          "metadata": {}
        }
      ]
    },
    {
      "cell_type": "markdown",
      "metadata": {
        "id": "Xtcgg5hPlUUu"
      },
      "source": [
        "# **Bivariate**"
      ]
    },
    {
      "cell_type": "code",
      "metadata": {
        "colab": {
          "base_uri": "https://localhost:8080/",
          "height": 332
        },
        "id": "o0DgRbQ9e-EM",
        "outputId": "00950bc5-bcd6-42ad-a5f6-73605ee0df11"
      },
      "source": [
        "gender =pd.crosstab(train['Gender'],train['LastWorkingDate'])\n",
        "gender.div(gender.sum(1).astype(float),axis=0).plot(kind='bar',stacked=False,title=\"Gender with LastWorkingDate\")"
      ],
      "execution_count": 193,
      "outputs": [
        {
          "output_type": "execute_result",
          "data": {
            "text/plain": [
              "<matplotlib.axes._subplots.AxesSubplot at 0x7f8a22964950>"
            ]
          },
          "metadata": {},
          "execution_count": 193
        },
        {
          "output_type": "display_data",
          "data": {
            "image/png": "[encoded data removed]",
            "text/plain": [
              "<Figure size 432x288 with 1 Axes>"
            ]
          },
          "metadata": {}
        }
      ]
    },
    {
      "cell_type": "code",
      "metadata": {
        "colab": {
          "base_uri": "https://localhost:8080/",
          "height": 338
        },
        "id": "zHns4fXle-G2",
        "outputId": "bf6a1734-e3b2-457a-b343-7720f69a3eb9"
      },
      "source": [
        "education = pd.crosstab(train['Education_Level'],train['LastWorkingDate'])\n",
        "education.div(education.sum(1).astype(float),axis=0).plot(kind='bar',title=\"Education with LastWorkingDate\")"
      ],
      "execution_count": 196,
      "outputs": [
        {
          "output_type": "execute_result",
          "data": {
            "text/plain": [
              "<matplotlib.axes._subplots.AxesSubplot at 0x7f8a23983d10>"
            ]
          },
          "metadata": {},
          "execution_count": 196
        },
        {
          "output_type": "display_data",
          "data": {
            "image/png": "[encoded data removed]",
            "text/plain": [
              "<Figure size 432x288 with 1 Axes>"
            ]
          },
          "metadata": {}
        }
      ]
    },
    {
      "cell_type": "code",
      "metadata": {
        "colab": {
          "base_uri": "https://localhost:8080/",
          "height": 304
        },
        "id": "_kkOnKChe-Jp",
        "outputId": "bebe6bcf-e3a4-4cda-f9aa-53a50515f450"
      },
      "source": [
        "jde = pd.crosstab(train['Joining Designation'],train['LastWorkingDate'])\n",
        "jde.div(jde.sum(1).astype(float),axis=0).plot(kind='bar',title=\"Joining Designation with LastWorkingDate\")"
      ],
      "execution_count": 199,
      "outputs": [
        {
          "output_type": "execute_result",
          "data": {
            "text/plain": [
              "<matplotlib.axes._subplots.AxesSubplot at 0x7f8a23045990>"
            ]
          },
          "metadata": {},
          "execution_count": 199
        },
        {
          "output_type": "display_data",
          "data": {
            "image/png": "[encoded data removed]",
            "text/plain": [
              "<Figure size 432x288 with 1 Axes>"
            ]
          },
          "metadata": {}
        }
      ]
    },
    {
      "cell_type": "code",
      "metadata": {
        "colab": {
          "base_uri": "https://localhost:8080/",
          "height": 304
        },
        "id": "mqMntbGYe-Ma",
        "outputId": "ba706a5a-bfde-473a-af02-6c9c7a35b782"
      },
      "source": [
        "desig = pd.crosstab(train['Designation'],train['LastWorkingDate'])\n",
        "desig.div(desig.sum(1).astype(float),axis=0).plot(kind='bar',title=\"Designation with The Target\")"
      ],
      "execution_count": 200,
      "outputs": [
        {
          "output_type": "execute_result",
          "data": {
            "text/plain": [
              "<matplotlib.axes._subplots.AxesSubplot at 0x7f8a22847790>"
            ]
          },
          "metadata": {},
          "execution_count": 200
        },
        {
          "output_type": "display_data",
          "data": {
            "image/png": "[encoded data removed]",
            "text/plain": [
              "<Figure size 432x288 with 1 Axes>"
            ]
          },
          "metadata": {}
        }
      ]
    },
    {
      "cell_type": "code",
      "metadata": {
        "colab": {
          "base_uri": "https://localhost:8080/",
          "height": 304
        },
        "id": "-HHsVGFBmS_z",
        "outputId": "8de55329-205c-4d7c-8ee5-359850e20a4e"
      },
      "source": [
        "lqrate = pd.crosstab(train['Quarterly Rating'],train['LastWorkingDate'])\n",
        "lqrate.div(lqrate.sum(1).astype(float),axis=0).plot(kind='bar',title=\"Last Quarterly Rating with LastWorkingDate\")"
      ],
      "execution_count": 202,
      "outputs": [
        {
          "output_type": "execute_result",
          "data": {
            "text/plain": [
              "<matplotlib.axes._subplots.AxesSubplot at 0x7f8a226eb0d0>"
            ]
          },
          "metadata": {},
          "execution_count": 202
        },
        {
          "output_type": "display_data",
          "data": {
            "image/png": "[encoded data removed]",
            "text/plain": [
              "<Figure size 432x288 with 1 Axes>"
            ]
          },
          "metadata": {}
        }
      ]
    },
    {
      "cell_type": "markdown",
      "metadata": {
        "id": "FXWdsMHunA5n"
      },
      "source": [
        "#### We need to convert the MMM-YY,Dateofjoining,LastWorkingDate columns into datetime type."
      ]
    },
    {
      "cell_type": "code",
      "metadata": {
        "id": "sI1ufaaVe-Ot"
      },
      "source": [
        "##Converting 'MMM-YY', 'Dateofjoining', 'LastWorkingDate' feature to datetime type\n",
        "train['MMM-YY'] = pd.to_datetime(train['MMM-YY'],format=\"%Y-%m-%d\")                   \n",
        "\n",
        "train['Dateofjoining'] = pd.to_datetime(train['Dateofjoining'],format=\"%Y-%m-%d\")\n",
        "\n",
        "train['LastWorkingDate'] = pd.to_datetime(train['LastWorkingDate'],format=\"%Y-%m-%d\")"
      ],
      "execution_count": 203,
      "outputs": []
    },
    {
      "cell_type": "markdown",
      "metadata": {
        "id": "kLTCKCuUngH1"
      },
      "source": [
        "# **One hot Encoding**"
      ]
    },
    {
      "cell_type": "code",
      "metadata": {
        "id": "AEoIoO8cPOLX"
      },
      "source": [
        "train.Gender = pd.get_dummies(train.Gender,drop_first=True)"
      ],
      "execution_count": null,
      "outputs": []
    },
    {
      "cell_type": "code",
      "metadata": {
        "colab": {
          "base_uri": "https://localhost:8080/",
          "height": 651
        },
        "id": "_hkptHqqQEFz",
        "outputId": "c05352bf-8a5a-47ec-fae2-757a8e158209"
      },
      "source": [
        "train"
      ],
      "execution_count": null,
      "outputs": [
        {
          "output_type": "execute_result",
          "data": {
            "text/html": [
              "<div>\n",
              "<style scoped>\n",
              "    .dataframe tbody tr th:only-of-type {\n",
              "        vertical-align: middle;\n",
              "    }\n",
              "\n",
              "    .dataframe tbody tr th {\n",
              "        vertical-align: top;\n",
              "    }\n",
              "\n",
              "    .dataframe thead th {\n",
              "        text-align: right;\n",
              "    }\n",
              "</style>\n",
              "<table border=\"1\" class=\"dataframe\">\n",
              "  <thead>\n",
              "    <tr style=\"text-align: right;\">\n",
              "      <th></th>\n",
              "      <th>index</th>\n",
              "      <th>MMM-YY</th>\n",
              "      <th>Emp_ID</th>\n",
              "      <th>Age</th>\n",
              "      <th>Gender</th>\n",
              "      <th>City</th>\n",
              "      <th>Education_Level</th>\n",
              "      <th>Salary</th>\n",
              "      <th>Dateofjoining</th>\n",
              "      <th>LastWorkingDate</th>\n",
              "      <th>Joining Designation</th>\n",
              "      <th>Designation</th>\n",
              "      <th>Total Business Value</th>\n",
              "      <th>Quarterly Rating</th>\n",
              "    </tr>\n",
              "  </thead>\n",
              "  <tbody>\n",
              "    <tr>\n",
              "      <th>0</th>\n",
              "      <td>2</td>\n",
              "      <td>2016-03-01</td>\n",
              "      <td>1</td>\n",
              "      <td>28</td>\n",
              "      <td>1</td>\n",
              "      <td>C23</td>\n",
              "      <td>Master</td>\n",
              "      <td>57387</td>\n",
              "      <td>2015-12-24</td>\n",
              "      <td>1</td>\n",
              "      <td>1</td>\n",
              "      <td>1</td>\n",
              "      <td>0</td>\n",
              "      <td>2</td>\n",
              "    </tr>\n",
              "    <tr>\n",
              "      <th>1</th>\n",
              "      <td>4</td>\n",
              "      <td>2017-12-01</td>\n",
              "      <td>2</td>\n",
              "      <td>31</td>\n",
              "      <td>1</td>\n",
              "      <td>C7</td>\n",
              "      <td>Master</td>\n",
              "      <td>67016</td>\n",
              "      <td>2017-11-06</td>\n",
              "      <td>0</td>\n",
              "      <td>2</td>\n",
              "      <td>2</td>\n",
              "      <td>0</td>\n",
              "      <td>1</td>\n",
              "    </tr>\n",
              "    <tr>\n",
              "      <th>2</th>\n",
              "      <td>9</td>\n",
              "      <td>2017-04-01</td>\n",
              "      <td>4</td>\n",
              "      <td>43</td>\n",
              "      <td>1</td>\n",
              "      <td>C13</td>\n",
              "      <td>Master</td>\n",
              "      <td>65603</td>\n",
              "      <td>2016-12-07</td>\n",
              "      <td>1</td>\n",
              "      <td>2</td>\n",
              "      <td>2</td>\n",
              "      <td>0</td>\n",
              "      <td>1</td>\n",
              "    </tr>\n",
              "    <tr>\n",
              "      <th>3</th>\n",
              "      <td>12</td>\n",
              "      <td>2016-03-01</td>\n",
              "      <td>5</td>\n",
              "      <td>29</td>\n",
              "      <td>1</td>\n",
              "      <td>C9</td>\n",
              "      <td>College</td>\n",
              "      <td>46368</td>\n",
              "      <td>2016-01-09</td>\n",
              "      <td>1</td>\n",
              "      <td>1</td>\n",
              "      <td>1</td>\n",
              "      <td>0</td>\n",
              "      <td>1</td>\n",
              "    </tr>\n",
              "    <tr>\n",
              "      <th>4</th>\n",
              "      <td>17</td>\n",
              "      <td>2017-12-01</td>\n",
              "      <td>6</td>\n",
              "      <td>31</td>\n",
              "      <td>0</td>\n",
              "      <td>C11</td>\n",
              "      <td>Bachelor</td>\n",
              "      <td>78728</td>\n",
              "      <td>2017-07-31</td>\n",
              "      <td>0</td>\n",
              "      <td>3</td>\n",
              "      <td>3</td>\n",
              "      <td>0</td>\n",
              "      <td>2</td>\n",
              "    </tr>\n",
              "    <tr>\n",
              "      <th>...</th>\n",
              "      <td>...</td>\n",
              "      <td>...</td>\n",
              "      <td>...</td>\n",
              "      <td>...</td>\n",
              "      <td>...</td>\n",
              "      <td>...</td>\n",
              "      <td>...</td>\n",
              "      <td>...</td>\n",
              "      <td>...</td>\n",
              "      <td>...</td>\n",
              "      <td>...</td>\n",
              "      <td>...</td>\n",
              "      <td>...</td>\n",
              "      <td>...</td>\n",
              "    </tr>\n",
              "    <tr>\n",
              "      <th>2376</th>\n",
              "      <td>19078</td>\n",
              "      <td>2017-12-01</td>\n",
              "      <td>2784</td>\n",
              "      <td>34</td>\n",
              "      <td>1</td>\n",
              "      <td>C24</td>\n",
              "      <td>College</td>\n",
              "      <td>82815</td>\n",
              "      <td>2012-10-15</td>\n",
              "      <td>0</td>\n",
              "      <td>2</td>\n",
              "      <td>3</td>\n",
              "      <td>505480</td>\n",
              "      <td>4</td>\n",
              "    </tr>\n",
              "    <tr>\n",
              "      <th>2377</th>\n",
              "      <td>19081</td>\n",
              "      <td>2017-10-01</td>\n",
              "      <td>2785</td>\n",
              "      <td>34</td>\n",
              "      <td>0</td>\n",
              "      <td>C9</td>\n",
              "      <td>College</td>\n",
              "      <td>12105</td>\n",
              "      <td>2017-08-28</td>\n",
              "      <td>1</td>\n",
              "      <td>1</td>\n",
              "      <td>1</td>\n",
              "      <td>0</td>\n",
              "      <td>1</td>\n",
              "    </tr>\n",
              "    <tr>\n",
              "      <th>2378</th>\n",
              "      <td>19090</td>\n",
              "      <td>2016-09-01</td>\n",
              "      <td>2786</td>\n",
              "      <td>45</td>\n",
              "      <td>1</td>\n",
              "      <td>C19</td>\n",
              "      <td>College</td>\n",
              "      <td>35370</td>\n",
              "      <td>2015-07-31</td>\n",
              "      <td>1</td>\n",
              "      <td>2</td>\n",
              "      <td>2</td>\n",
              "      <td>0</td>\n",
              "      <td>1</td>\n",
              "    </tr>\n",
              "    <tr>\n",
              "      <th>2379</th>\n",
              "      <td>19096</td>\n",
              "      <td>2016-06-01</td>\n",
              "      <td>2787</td>\n",
              "      <td>28</td>\n",
              "      <td>0</td>\n",
              "      <td>C20</td>\n",
              "      <td>Master</td>\n",
              "      <td>69498</td>\n",
              "      <td>2015-07-21</td>\n",
              "      <td>1</td>\n",
              "      <td>1</td>\n",
              "      <td>1</td>\n",
              "      <td>0</td>\n",
              "      <td>1</td>\n",
              "    </tr>\n",
              "    <tr>\n",
              "      <th>2380</th>\n",
              "      <td>19103</td>\n",
              "      <td>2017-12-01</td>\n",
              "      <td>2788</td>\n",
              "      <td>30</td>\n",
              "      <td>1</td>\n",
              "      <td>C27</td>\n",
              "      <td>Master</td>\n",
              "      <td>70254</td>\n",
              "      <td>2017-06-08</td>\n",
              "      <td>0</td>\n",
              "      <td>2</td>\n",
              "      <td>2</td>\n",
              "      <td>411480</td>\n",
              "      <td>2</td>\n",
              "    </tr>\n",
              "  </tbody>\n",
              "</table>\n",
              "<p>2381 rows × 14 columns</p>\n",
              "</div>"
            ],
            "text/plain": [
              "      index      MMM-YY  ...  Total Business Value  Quarterly Rating\n",
              "0     2      2016-03-01  ...  0                     2               \n",
              "1     4      2017-12-01  ...  0                     1               \n",
              "2     9      2017-04-01  ...  0                     1               \n",
              "3     12     2016-03-01  ...  0                     1               \n",
              "4     17     2017-12-01  ...  0                     2               \n",
              "...   ..            ...  ... ..                    ..               \n",
              "2376  19078  2017-12-01  ...  505480                4               \n",
              "2377  19081  2017-10-01  ...  0                     1               \n",
              "2378  19090  2016-09-01  ...  0                     1               \n",
              "2379  19096  2016-06-01  ...  0                     1               \n",
              "2380  19103  2017-12-01  ...  411480                2               \n",
              "\n",
              "[2381 rows x 14 columns]"
            ]
          },
          "metadata": {},
          "execution_count": 318
        }
      ]
    },
    {
      "cell_type": "code",
      "metadata": {
        "colab": {
          "base_uri": "https://localhost:8080/"
        },
        "id": "S6KvpozRQFfM",
        "outputId": "6d869717-0479-4ee2-9f01-7b53e495aac0"
      },
      "source": [
        "train.Education_Level.value_counts()"
      ],
      "execution_count": null,
      "outputs": [
        {
          "output_type": "execute_result",
          "data": {
            "text/plain": [
              "Master      802\n",
              "Bachelor    795\n",
              "College     784\n",
              "Name: Education_Level, dtype: int64"
            ]
          },
          "metadata": {},
          "execution_count": 319
        }
      ]
    },
    {
      "cell_type": "code",
      "metadata": {
        "id": "zOgCRjXfTYJ7"
      },
      "source": [
        "train.Education_Level = pd.get_dummies(train.Education_Level)"
      ],
      "execution_count": null,
      "outputs": []
    },
    {
      "cell_type": "code",
      "metadata": {
        "colab": {
          "base_uri": "https://localhost:8080/",
          "height": 651
        },
        "id": "qKvk9wG0Ups9",
        "outputId": "663ba197-aeda-411e-9438-74645115d9f4"
      },
      "source": [
        "train"
      ],
      "execution_count": null,
      "outputs": [
        {
          "output_type": "execute_result",
          "data": {
            "text/html": [
              "<div>\n",
              "<style scoped>\n",
              "    .dataframe tbody tr th:only-of-type {\n",
              "        vertical-align: middle;\n",
              "    }\n",
              "\n",
              "    .dataframe tbody tr th {\n",
              "        vertical-align: top;\n",
              "    }\n",
              "\n",
              "    .dataframe thead th {\n",
              "        text-align: right;\n",
              "    }\n",
              "</style>\n",
              "<table border=\"1\" class=\"dataframe\">\n",
              "  <thead>\n",
              "    <tr style=\"text-align: right;\">\n",
              "      <th></th>\n",
              "      <th>index</th>\n",
              "      <th>MMM-YY</th>\n",
              "      <th>Emp_ID</th>\n",
              "      <th>Age</th>\n",
              "      <th>Gender</th>\n",
              "      <th>City</th>\n",
              "      <th>Education_Level</th>\n",
              "      <th>Salary</th>\n",
              "      <th>Dateofjoining</th>\n",
              "      <th>LastWorkingDate</th>\n",
              "      <th>Joining Designation</th>\n",
              "      <th>Designation</th>\n",
              "      <th>Total Business Value</th>\n",
              "      <th>Quarterly Rating</th>\n",
              "    </tr>\n",
              "  </thead>\n",
              "  <tbody>\n",
              "    <tr>\n",
              "      <th>0</th>\n",
              "      <td>2</td>\n",
              "      <td>2016-03-01</td>\n",
              "      <td>1</td>\n",
              "      <td>28</td>\n",
              "      <td>1</td>\n",
              "      <td>C23</td>\n",
              "      <td>0</td>\n",
              "      <td>57387</td>\n",
              "      <td>2015-12-24</td>\n",
              "      <td>1</td>\n",
              "      <td>1</td>\n",
              "      <td>1</td>\n",
              "      <td>0</td>\n",
              "      <td>2</td>\n",
              "    </tr>\n",
              "    <tr>\n",
              "      <th>1</th>\n",
              "      <td>4</td>\n",
              "      <td>2017-12-01</td>\n",
              "      <td>2</td>\n",
              "      <td>31</td>\n",
              "      <td>1</td>\n",
              "      <td>C7</td>\n",
              "      <td>0</td>\n",
              "      <td>67016</td>\n",
              "      <td>2017-11-06</td>\n",
              "      <td>0</td>\n",
              "      <td>2</td>\n",
              "      <td>2</td>\n",
              "      <td>0</td>\n",
              "      <td>1</td>\n",
              "    </tr>\n",
              "    <tr>\n",
              "      <th>2</th>\n",
              "      <td>9</td>\n",
              "      <td>2017-04-01</td>\n",
              "      <td>4</td>\n",
              "      <td>43</td>\n",
              "      <td>1</td>\n",
              "      <td>C13</td>\n",
              "      <td>0</td>\n",
              "      <td>65603</td>\n",
              "      <td>2016-12-07</td>\n",
              "      <td>1</td>\n",
              "      <td>2</td>\n",
              "      <td>2</td>\n",
              "      <td>0</td>\n",
              "      <td>1</td>\n",
              "    </tr>\n",
              "    <tr>\n",
              "      <th>3</th>\n",
              "      <td>12</td>\n",
              "      <td>2016-03-01</td>\n",
              "      <td>5</td>\n",
              "      <td>29</td>\n",
              "      <td>1</td>\n",
              "      <td>C9</td>\n",
              "      <td>0</td>\n",
              "      <td>46368</td>\n",
              "      <td>2016-01-09</td>\n",
              "      <td>1</td>\n",
              "      <td>1</td>\n",
              "      <td>1</td>\n",
              "      <td>0</td>\n",
              "      <td>1</td>\n",
              "    </tr>\n",
              "    <tr>\n",
              "      <th>4</th>\n",
              "      <td>17</td>\n",
              "      <td>2017-12-01</td>\n",
              "      <td>6</td>\n",
              "      <td>31</td>\n",
              "      <td>0</td>\n",
              "      <td>C11</td>\n",
              "      <td>1</td>\n",
              "      <td>78728</td>\n",
              "      <td>2017-07-31</td>\n",
              "      <td>0</td>\n",
              "      <td>3</td>\n",
              "      <td>3</td>\n",
              "      <td>0</td>\n",
              "      <td>2</td>\n",
              "    </tr>\n",
              "    <tr>\n",
              "      <th>...</th>\n",
              "      <td>...</td>\n",
              "      <td>...</td>\n",
              "      <td>...</td>\n",
              "      <td>...</td>\n",
              "      <td>...</td>\n",
              "      <td>...</td>\n",
              "      <td>...</td>\n",
              "      <td>...</td>\n",
              "      <td>...</td>\n",
              "      <td>...</td>\n",
              "      <td>...</td>\n",
              "      <td>...</td>\n",
              "      <td>...</td>\n",
              "      <td>...</td>\n",
              "    </tr>\n",
              "    <tr>\n",
              "      <th>2376</th>\n",
              "      <td>19078</td>\n",
              "      <td>2017-12-01</td>\n",
              "      <td>2784</td>\n",
              "      <td>34</td>\n",
              "      <td>1</td>\n",
              "      <td>C24</td>\n",
              "      <td>0</td>\n",
              "      <td>82815</td>\n",
              "      <td>2012-10-15</td>\n",
              "      <td>0</td>\n",
              "      <td>2</td>\n",
              "      <td>3</td>\n",
              "      <td>505480</td>\n",
              "      <td>4</td>\n",
              "    </tr>\n",
              "    <tr>\n",
              "      <th>2377</th>\n",
              "      <td>19081</td>\n",
              "      <td>2017-10-01</td>\n",
              "      <td>2785</td>\n",
              "      <td>34</td>\n",
              "      <td>0</td>\n",
              "      <td>C9</td>\n",
              "      <td>0</td>\n",
              "      <td>12105</td>\n",
              "      <td>2017-08-28</td>\n",
              "      <td>1</td>\n",
              "      <td>1</td>\n",
              "      <td>1</td>\n",
              "      <td>0</td>\n",
              "      <td>1</td>\n",
              "    </tr>\n",
              "    <tr>\n",
              "      <th>2378</th>\n",
              "      <td>19090</td>\n",
              "      <td>2016-09-01</td>\n",
              "      <td>2786</td>\n",
              "      <td>45</td>\n",
              "      <td>1</td>\n",
              "      <td>C19</td>\n",
              "      <td>0</td>\n",
              "      <td>35370</td>\n",
              "      <td>2015-07-31</td>\n",
              "      <td>1</td>\n",
              "      <td>2</td>\n",
              "      <td>2</td>\n",
              "      <td>0</td>\n",
              "      <td>1</td>\n",
              "    </tr>\n",
              "    <tr>\n",
              "      <th>2379</th>\n",
              "      <td>19096</td>\n",
              "      <td>2016-06-01</td>\n",
              "      <td>2787</td>\n",
              "      <td>28</td>\n",
              "      <td>0</td>\n",
              "      <td>C20</td>\n",
              "      <td>0</td>\n",
              "      <td>69498</td>\n",
              "      <td>2015-07-21</td>\n",
              "      <td>1</td>\n",
              "      <td>1</td>\n",
              "      <td>1</td>\n",
              "      <td>0</td>\n",
              "      <td>1</td>\n",
              "    </tr>\n",
              "    <tr>\n",
              "      <th>2380</th>\n",
              "      <td>19103</td>\n",
              "      <td>2017-12-01</td>\n",
              "      <td>2788</td>\n",
              "      <td>30</td>\n",
              "      <td>1</td>\n",
              "      <td>C27</td>\n",
              "      <td>0</td>\n",
              "      <td>70254</td>\n",
              "      <td>2017-06-08</td>\n",
              "      <td>0</td>\n",
              "      <td>2</td>\n",
              "      <td>2</td>\n",
              "      <td>411480</td>\n",
              "      <td>2</td>\n",
              "    </tr>\n",
              "  </tbody>\n",
              "</table>\n",
              "<p>2381 rows × 14 columns</p>\n",
              "</div>"
            ],
            "text/plain": [
              "      index      MMM-YY  ...  Total Business Value  Quarterly Rating\n",
              "0     2      2016-03-01  ...  0                     2               \n",
              "1     4      2017-12-01  ...  0                     1               \n",
              "2     9      2017-04-01  ...  0                     1               \n",
              "3     12     2016-03-01  ...  0                     1               \n",
              "4     17     2017-12-01  ...  0                     2               \n",
              "...   ..            ...  ... ..                    ..               \n",
              "2376  19078  2017-12-01  ...  505480                4               \n",
              "2377  19081  2017-10-01  ...  0                     1               \n",
              "2378  19090  2016-09-01  ...  0                     1               \n",
              "2379  19096  2016-06-01  ...  0                     1               \n",
              "2380  19103  2017-12-01  ...  411480                2               \n",
              "\n",
              "[2381 rows x 14 columns]"
            ]
          },
          "metadata": {},
          "execution_count": 321
        }
      ]
    },
    {
      "cell_type": "code",
      "metadata": {
        "colab": {
          "base_uri": "https://localhost:8080/"
        },
        "id": "dxsCeqijYdTF",
        "outputId": "9ad9b6c6-55bf-4f4b-8084-f371f2ebfa95"
      },
      "source": [
        "train.isnull().sum()            # No null values"
      ],
      "execution_count": null,
      "outputs": [
        {
          "output_type": "execute_result",
          "data": {
            "text/plain": [
              "index                   0\n",
              "MMM-YY                  0\n",
              "Emp_ID                  0\n",
              "Age                     0\n",
              "Gender                  0\n",
              "City                    0\n",
              "Education_Level         0\n",
              "Salary                  0\n",
              "Dateofjoining           0\n",
              "LastWorkingDate         0\n",
              "Joining Designation     0\n",
              "Designation             0\n",
              "Total Business Value    0\n",
              "Quarterly Rating        0\n",
              "dtype: int64"
            ]
          },
          "metadata": {},
          "execution_count": 322
        }
      ]
    },
    {
      "cell_type": "code",
      "metadata": {
        "colab": {
          "base_uri": "https://localhost:8080/",
          "height": 201
        },
        "id": "JEFD3bPLcbiz",
        "outputId": "74dd28bd-c8a0-416c-b24f-2833835e45da"
      },
      "source": [
        "train.head(2)"
      ],
      "execution_count": null,
      "outputs": [
        {
          "output_type": "execute_result",
          "data": {
            "text/html": [
              "<div>\n",
              "<style scoped>\n",
              "    .dataframe tbody tr th:only-of-type {\n",
              "        vertical-align: middle;\n",
              "    }\n",
              "\n",
              "    .dataframe tbody tr th {\n",
              "        vertical-align: top;\n",
              "    }\n",
              "\n",
              "    .dataframe thead th {\n",
              "        text-align: right;\n",
              "    }\n",
              "</style>\n",
              "<table border=\"1\" class=\"dataframe\">\n",
              "  <thead>\n",
              "    <tr style=\"text-align: right;\">\n",
              "      <th></th>\n",
              "      <th>index</th>\n",
              "      <th>MMM-YY</th>\n",
              "      <th>Emp_ID</th>\n",
              "      <th>Age</th>\n",
              "      <th>Gender</th>\n",
              "      <th>City</th>\n",
              "      <th>Education_Level</th>\n",
              "      <th>Salary</th>\n",
              "      <th>Dateofjoining</th>\n",
              "      <th>LastWorkingDate</th>\n",
              "      <th>Joining Designation</th>\n",
              "      <th>Designation</th>\n",
              "      <th>Total Business Value</th>\n",
              "      <th>Quarterly Rating</th>\n",
              "    </tr>\n",
              "  </thead>\n",
              "  <tbody>\n",
              "    <tr>\n",
              "      <th>0</th>\n",
              "      <td>2</td>\n",
              "      <td>2016-03-01</td>\n",
              "      <td>1</td>\n",
              "      <td>28</td>\n",
              "      <td>1</td>\n",
              "      <td>C23</td>\n",
              "      <td>0</td>\n",
              "      <td>57387</td>\n",
              "      <td>2015-12-24</td>\n",
              "      <td>1</td>\n",
              "      <td>1</td>\n",
              "      <td>1</td>\n",
              "      <td>0</td>\n",
              "      <td>2</td>\n",
              "    </tr>\n",
              "    <tr>\n",
              "      <th>1</th>\n",
              "      <td>4</td>\n",
              "      <td>2017-12-01</td>\n",
              "      <td>2</td>\n",
              "      <td>31</td>\n",
              "      <td>1</td>\n",
              "      <td>C7</td>\n",
              "      <td>0</td>\n",
              "      <td>67016</td>\n",
              "      <td>2017-11-06</td>\n",
              "      <td>0</td>\n",
              "      <td>2</td>\n",
              "      <td>2</td>\n",
              "      <td>0</td>\n",
              "      <td>1</td>\n",
              "    </tr>\n",
              "  </tbody>\n",
              "</table>\n",
              "</div>"
            ],
            "text/plain": [
              "   index      MMM-YY  ...  Total Business Value  Quarterly Rating\n",
              "0  2      2016-03-01  ...  0                     2               \n",
              "1  4      2017-12-01  ...  0                     1               \n",
              "\n",
              "[2 rows x 14 columns]"
            ]
          },
          "metadata": {},
          "execution_count": 323
        }
      ]
    },
    {
      "cell_type": "code",
      "metadata": {
        "id": "EEqYZfwScd3b"
      },
      "source": [
        "# Independent Variable\n",
        "x = train[[\"Age\",\"Gender\", \"Education_Level\", \"Salary\", \"Joining Designation\", \"Designation\", \"Total Business Value\", \"Quarterly Rating\" ]]\n",
        "\n",
        "# Dependent Variable\n",
        "y = train[[\"LastWorkingDate\"]]"
      ],
      "execution_count": null,
      "outputs": []
    },
    {
      "cell_type": "markdown",
      "metadata": {
        "id": "0n5M48QQnsff"
      },
      "source": [
        "# **Spliting into Train-Test Split**"
      ]
    },
    {
      "cell_type": "code",
      "metadata": {
        "id": "vCotzM6Vdz0L"
      },
      "source": [
        "x_train, x_test, y_train, y_test = train_test_split(x, y, random_state = 100)"
      ],
      "execution_count": null,
      "outputs": []
    },
    {
      "cell_type": "code",
      "metadata": {
        "colab": {
          "base_uri": "https://localhost:8080/",
          "height": 112
        },
        "id": "qF5Et_leeo09",
        "outputId": "b626cad9-b497-4fe8-b4df-a89ccc2b97e5"
      },
      "source": [
        "x.head(2)"
      ],
      "execution_count": null,
      "outputs": [
        {
          "output_type": "execute_result",
          "data": {
            "text/html": [
              "<div>\n",
              "<style scoped>\n",
              "    .dataframe tbody tr th:only-of-type {\n",
              "        vertical-align: middle;\n",
              "    }\n",
              "\n",
              "    .dataframe tbody tr th {\n",
              "        vertical-align: top;\n",
              "    }\n",
              "\n",
              "    .dataframe thead th {\n",
              "        text-align: right;\n",
              "    }\n",
              "</style>\n",
              "<table border=\"1\" class=\"dataframe\">\n",
              "  <thead>\n",
              "    <tr style=\"text-align: right;\">\n",
              "      <th></th>\n",
              "      <th>Age</th>\n",
              "      <th>Gender</th>\n",
              "      <th>Education_Level</th>\n",
              "      <th>Salary</th>\n",
              "      <th>Joining Designation</th>\n",
              "      <th>Designation</th>\n",
              "      <th>Total Business Value</th>\n",
              "      <th>Quarterly Rating</th>\n",
              "    </tr>\n",
              "  </thead>\n",
              "  <tbody>\n",
              "    <tr>\n",
              "      <th>0</th>\n",
              "      <td>28</td>\n",
              "      <td>1</td>\n",
              "      <td>0</td>\n",
              "      <td>57387</td>\n",
              "      <td>1</td>\n",
              "      <td>1</td>\n",
              "      <td>0</td>\n",
              "      <td>2</td>\n",
              "    </tr>\n",
              "    <tr>\n",
              "      <th>1</th>\n",
              "      <td>31</td>\n",
              "      <td>1</td>\n",
              "      <td>0</td>\n",
              "      <td>67016</td>\n",
              "      <td>2</td>\n",
              "      <td>2</td>\n",
              "      <td>0</td>\n",
              "      <td>1</td>\n",
              "    </tr>\n",
              "  </tbody>\n",
              "</table>\n",
              "</div>"
            ],
            "text/plain": [
              "   Age  Gender  ...  Total Business Value  Quarterly Rating\n",
              "0  28   1       ...  0                     2               \n",
              "1  31   1       ...  0                     1               \n",
              "\n",
              "[2 rows x 8 columns]"
            ]
          },
          "metadata": {},
          "execution_count": 328
        }
      ]
    },
    {
      "cell_type": "markdown",
      "metadata": {
        "id": "GoWaIzZ7oCjU"
      },
      "source": [
        "# **Standardization**"
      ]
    },
    {
      "cell_type": "code",
      "metadata": {
        "id": "fjA7fkhYe9bc"
      },
      "source": [
        "sc = StandardScaler()\n",
        "x[\"Age\"] = sc.fit_transform(x[[\"Age\"]])\n",
        "sc1 = StandardScaler()\n",
        "x[\"Salary\"] = sc1.fit_transform(x[[\"Salary\"]])\n",
        "sc2 = StandardScaler()\n",
        "x[\"Total Business Value\"] = sc1.fit_transform(x[[\"Total Business Value\"]])"
      ],
      "execution_count": null,
      "outputs": []
    },
    {
      "cell_type": "code",
      "metadata": {
        "id": "jSEZvFBsAbyH"
      },
      "source": [
        "x_train, x_test, y_train, y_test = train_test_split(x, y, random_state = 100)"
      ],
      "execution_count": null,
      "outputs": []
    },
    {
      "cell_type": "markdown",
      "metadata": {
        "id": "7JwegCZ7oKAk"
      },
      "source": [
        "# **Building Models**"
      ]
    },
    {
      "cell_type": "code",
      "metadata": {
        "colab": {
          "base_uri": "https://localhost:8080/"
        },
        "id": "CPZvBz2pAkqP",
        "outputId": "b84a68ec-b8f1-4d44-c424-5dae36ee5343"
      },
      "source": [
        "from sklearn.tree import DecisionTreeClassifier\n",
        "dtc=DecisionTreeClassifier(random_state=100,criterion='entropy')\n",
        "tp={\"max_depth\":(2,10,1)}\n",
        "from sklearn.model_selection import GridSearchCV\n",
        "cv=GridSearchCV(dtc,tp,scoring=\"f1_score\",cv=4)\n",
        "cvmodel=cv.fit(x_train,y_train)\n",
        "md=cvmodel.best_params_['max_depth']\n",
        "dtc=DecisionTreeClassifier(random_state=100,criterion='entropy',max_depth=md)\n",
        "model=dtc.fit(x_train,y_train)\n",
        "pred=model.predict(x_test)\n",
        "    \n",
        "\n",
        "from sklearn.metrics import f1_score\n",
        "print(\"F1_Score:%4f\"%(accuracy_score(y_test,pred)))"
      ],
      "execution_count": null,
      "outputs": [
        {
          "output_type": "stream",
          "name": "stdout",
          "text": [
            "F1_Score:0.828859\n"
          ]
        }
      ]
    },
    {
      "cell_type": "markdown",
      "metadata": {
        "id": "FU5lJ78poqwR"
      },
      "source": [
        "# Test Dataset"
      ]
    },
    {
      "cell_type": "code",
      "metadata": {
        "id": "J2jMWscNjno6"
      },
      "source": [
        "test = pd.read_csv(\"/content/drive/MyDrive/Job-A-Thon/test_hXY9mYw.csv\")"
      ],
      "execution_count": null,
      "outputs": []
    },
    {
      "cell_type": "code",
      "metadata": {
        "colab": {
          "base_uri": "https://localhost:8080/",
          "height": 423
        },
        "id": "g6hpetMkwEWs",
        "outputId": "f29218fa-54ee-40c0-af0f-6531b31d8790"
      },
      "source": [
        "test"
      ],
      "execution_count": null,
      "outputs": [
        {
          "output_type": "execute_result",
          "data": {
            "text/html": [
              "<div>\n",
              "<style scoped>\n",
              "    .dataframe tbody tr th:only-of-type {\n",
              "        vertical-align: middle;\n",
              "    }\n",
              "\n",
              "    .dataframe tbody tr th {\n",
              "        vertical-align: top;\n",
              "    }\n",
              "\n",
              "    .dataframe thead th {\n",
              "        text-align: right;\n",
              "    }\n",
              "</style>\n",
              "<table border=\"1\" class=\"dataframe\">\n",
              "  <thead>\n",
              "    <tr style=\"text-align: right;\">\n",
              "      <th></th>\n",
              "      <th>Emp_ID</th>\n",
              "    </tr>\n",
              "  </thead>\n",
              "  <tbody>\n",
              "    <tr>\n",
              "      <th>0</th>\n",
              "      <td>394</td>\n",
              "    </tr>\n",
              "    <tr>\n",
              "      <th>1</th>\n",
              "      <td>173</td>\n",
              "    </tr>\n",
              "    <tr>\n",
              "      <th>2</th>\n",
              "      <td>1090</td>\n",
              "    </tr>\n",
              "    <tr>\n",
              "      <th>3</th>\n",
              "      <td>840</td>\n",
              "    </tr>\n",
              "    <tr>\n",
              "      <th>4</th>\n",
              "      <td>308</td>\n",
              "    </tr>\n",
              "    <tr>\n",
              "      <th>...</th>\n",
              "      <td>...</td>\n",
              "    </tr>\n",
              "    <tr>\n",
              "      <th>736</th>\n",
              "      <td>2134</td>\n",
              "    </tr>\n",
              "    <tr>\n",
              "      <th>737</th>\n",
              "      <td>2255</td>\n",
              "    </tr>\n",
              "    <tr>\n",
              "      <th>738</th>\n",
              "      <td>448</td>\n",
              "    </tr>\n",
              "    <tr>\n",
              "      <th>739</th>\n",
              "      <td>1644</td>\n",
              "    </tr>\n",
              "    <tr>\n",
              "      <th>740</th>\n",
              "      <td>624</td>\n",
              "    </tr>\n",
              "  </tbody>\n",
              "</table>\n",
              "<p>741 rows × 1 columns</p>\n",
              "</div>"
            ],
            "text/plain": [
              "     Emp_ID\n",
              "0    394   \n",
              "1    173   \n",
              "2    1090  \n",
              "3    840   \n",
              "4    308   \n",
              "..   ...   \n",
              "736  2134  \n",
              "737  2255  \n",
              "738  448   \n",
              "739  1644  \n",
              "740  624   \n",
              "\n",
              "[741 rows x 1 columns]"
            ]
          },
          "metadata": {},
          "execution_count": 333
        }
      ]
    },
    {
      "cell_type": "code",
      "metadata": {
        "colab": {
          "base_uri": "https://localhost:8080/"
        },
        "id": "AqHMslzMwGp6",
        "outputId": "7b801361-808c-4313-c6c4-e4a5834875e3"
      },
      "source": [
        "train.columns"
      ],
      "execution_count": null,
      "outputs": [
        {
          "output_type": "execute_result",
          "data": {
            "text/plain": [
              "Index(['index', 'MMM-YY', 'Emp_ID', 'Age', 'Gender', 'City', 'Education_Level',\n",
              "       'Salary', 'Dateofjoining', 'LastWorkingDate', 'Joining Designation',\n",
              "       'Designation', 'Total Business Value', 'Quarterly Rating'],\n",
              "      dtype='object')"
            ]
          },
          "metadata": {},
          "execution_count": 334
        }
      ]
    },
    {
      "cell_type": "code",
      "metadata": {
        "colab": {
          "base_uri": "https://localhost:8080/"
        },
        "id": "U2WLSv7uwN8b",
        "outputId": "eca1b9ea-3b12-4a53-aa41-4b16428ad41d"
      },
      "source": [
        "test.columns"
      ],
      "execution_count": null,
      "outputs": [
        {
          "output_type": "execute_result",
          "data": {
            "text/plain": [
              "Index(['Emp_ID'], dtype='object')"
            ]
          },
          "metadata": {},
          "execution_count": 335
        }
      ]
    },
    {
      "cell_type": "code",
      "metadata": {
        "id": "OdneDLjgwRcM"
      },
      "source": [
        "test_final = pd.merge(test, train)           # Merging test & train data into test dataset"
      ],
      "execution_count": null,
      "outputs": []
    },
    {
      "cell_type": "code",
      "metadata": {
        "colab": {
          "base_uri": "https://localhost:8080/",
          "height": 1000
        },
        "id": "yNFct-RDwnyE",
        "outputId": "6a93d9c4-058c-4d5c-bfb8-20eaa2b0d1ab"
      },
      "source": [
        "test_final.head(20)"
      ],
      "execution_count": null,
      "outputs": [
        {
          "output_type": "execute_result",
          "data": {
            "text/html": [
              "<div>\n",
              "<style scoped>\n",
              "    .dataframe tbody tr th:only-of-type {\n",
              "        vertical-align: middle;\n",
              "    }\n",
              "\n",
              "    .dataframe tbody tr th {\n",
              "        vertical-align: top;\n",
              "    }\n",
              "\n",
              "    .dataframe thead th {\n",
              "        text-align: right;\n",
              "    }\n",
              "</style>\n",
              "<table border=\"1\" class=\"dataframe\">\n",
              "  <thead>\n",
              "    <tr style=\"text-align: right;\">\n",
              "      <th></th>\n",
              "      <th>Emp_ID</th>\n",
              "      <th>index</th>\n",
              "      <th>MMM-YY</th>\n",
              "      <th>Age</th>\n",
              "      <th>Gender</th>\n",
              "      <th>City</th>\n",
              "      <th>Education_Level</th>\n",
              "      <th>Salary</th>\n",
              "      <th>Dateofjoining</th>\n",
              "      <th>LastWorkingDate</th>\n",
              "      <th>Joining Designation</th>\n",
              "      <th>Designation</th>\n",
              "      <th>Total Business Value</th>\n",
              "      <th>Quarterly Rating</th>\n",
              "    </tr>\n",
              "  </thead>\n",
              "  <tbody>\n",
              "    <tr>\n",
              "      <th>0</th>\n",
              "      <td>394</td>\n",
              "      <td>2592</td>\n",
              "      <td>2017-12-01</td>\n",
              "      <td>34</td>\n",
              "      <td>0</td>\n",
              "      <td>C20</td>\n",
              "      <td>0</td>\n",
              "      <td>97722</td>\n",
              "      <td>2011-06-06</td>\n",
              "      <td>0</td>\n",
              "      <td>2</td>\n",
              "      <td>4</td>\n",
              "      <td>2701750</td>\n",
              "      <td>3</td>\n",
              "    </tr>\n",
              "    <tr>\n",
              "      <th>1</th>\n",
              "      <td>173</td>\n",
              "      <td>1177</td>\n",
              "      <td>2017-12-01</td>\n",
              "      <td>39</td>\n",
              "      <td>1</td>\n",
              "      <td>C28</td>\n",
              "      <td>0</td>\n",
              "      <td>56174</td>\n",
              "      <td>2011-06-13</td>\n",
              "      <td>0</td>\n",
              "      <td>1</td>\n",
              "      <td>3</td>\n",
              "      <td>706010</td>\n",
              "      <td>3</td>\n",
              "    </tr>\n",
              "    <tr>\n",
              "      <th>2</th>\n",
              "      <td>1090</td>\n",
              "      <td>7296</td>\n",
              "      <td>2017-12-01</td>\n",
              "      <td>39</td>\n",
              "      <td>1</td>\n",
              "      <td>C13</td>\n",
              "      <td>0</td>\n",
              "      <td>96750</td>\n",
              "      <td>2011-06-27</td>\n",
              "      <td>0</td>\n",
              "      <td>2</td>\n",
              "      <td>4</td>\n",
              "      <td>1518520</td>\n",
              "      <td>2</td>\n",
              "    </tr>\n",
              "    <tr>\n",
              "      <th>3</th>\n",
              "      <td>840</td>\n",
              "      <td>5638</td>\n",
              "      <td>2017-12-01</td>\n",
              "      <td>40</td>\n",
              "      <td>0</td>\n",
              "      <td>C8</td>\n",
              "      <td>0</td>\n",
              "      <td>88813</td>\n",
              "      <td>2011-07-11</td>\n",
              "      <td>0</td>\n",
              "      <td>1</td>\n",
              "      <td>4</td>\n",
              "      <td>1151820</td>\n",
              "      <td>2</td>\n",
              "    </tr>\n",
              "    <tr>\n",
              "      <th>4</th>\n",
              "      <td>308</td>\n",
              "      <td>1975</td>\n",
              "      <td>2017-12-01</td>\n",
              "      <td>32</td>\n",
              "      <td>1</td>\n",
              "      <td>C5</td>\n",
              "      <td>0</td>\n",
              "      <td>188418</td>\n",
              "      <td>2011-08-15</td>\n",
              "      <td>0</td>\n",
              "      <td>2</td>\n",
              "      <td>5</td>\n",
              "      <td>3772910</td>\n",
              "      <td>2</td>\n",
              "    </tr>\n",
              "    <tr>\n",
              "      <th>5</th>\n",
              "      <td>1864</td>\n",
              "      <td>12554</td>\n",
              "      <td>2017-12-01</td>\n",
              "      <td>34</td>\n",
              "      <td>0</td>\n",
              "      <td>C29</td>\n",
              "      <td>1</td>\n",
              "      <td>85688</td>\n",
              "      <td>2011-08-11</td>\n",
              "      <td>0</td>\n",
              "      <td>1</td>\n",
              "      <td>3</td>\n",
              "      <td>895380</td>\n",
              "      <td>3</td>\n",
              "    </tr>\n",
              "    <tr>\n",
              "      <th>6</th>\n",
              "      <td>1606</td>\n",
              "      <td>10766</td>\n",
              "      <td>2017-12-01</td>\n",
              "      <td>44</td>\n",
              "      <td>0</td>\n",
              "      <td>C12</td>\n",
              "      <td>1</td>\n",
              "      <td>99127</td>\n",
              "      <td>2011-08-22</td>\n",
              "      <td>0</td>\n",
              "      <td>1</td>\n",
              "      <td>3</td>\n",
              "      <td>652300</td>\n",
              "      <td>3</td>\n",
              "    </tr>\n",
              "    <tr>\n",
              "      <th>7</th>\n",
              "      <td>954</td>\n",
              "      <td>6413</td>\n",
              "      <td>2017-12-01</td>\n",
              "      <td>31</td>\n",
              "      <td>1</td>\n",
              "      <td>C13</td>\n",
              "      <td>0</td>\n",
              "      <td>43996</td>\n",
              "      <td>2011-08-29</td>\n",
              "      <td>0</td>\n",
              "      <td>1</td>\n",
              "      <td>2</td>\n",
              "      <td>511200</td>\n",
              "      <td>3</td>\n",
              "    </tr>\n",
              "    <tr>\n",
              "      <th>8</th>\n",
              "      <td>2422</td>\n",
              "      <td>16405</td>\n",
              "      <td>2017-12-01</td>\n",
              "      <td>48</td>\n",
              "      <td>1</td>\n",
              "      <td>C4</td>\n",
              "      <td>1</td>\n",
              "      <td>111507</td>\n",
              "      <td>2011-08-26</td>\n",
              "      <td>0</td>\n",
              "      <td>2</td>\n",
              "      <td>4</td>\n",
              "      <td>1943280</td>\n",
              "      <td>3</td>\n",
              "    </tr>\n",
              "    <tr>\n",
              "      <th>9</th>\n",
              "      <td>1841</td>\n",
              "      <td>12348</td>\n",
              "      <td>2017-12-01</td>\n",
              "      <td>33</td>\n",
              "      <td>1</td>\n",
              "      <td>C24</td>\n",
              "      <td>0</td>\n",
              "      <td>123565</td>\n",
              "      <td>2011-09-02</td>\n",
              "      <td>0</td>\n",
              "      <td>1</td>\n",
              "      <td>3</td>\n",
              "      <td>735010</td>\n",
              "      <td>2</td>\n",
              "    </tr>\n",
              "    <tr>\n",
              "      <th>10</th>\n",
              "      <td>1484</td>\n",
              "      <td>9991</td>\n",
              "      <td>2017-12-01</td>\n",
              "      <td>46</td>\n",
              "      <td>1</td>\n",
              "      <td>C2</td>\n",
              "      <td>0</td>\n",
              "      <td>101198</td>\n",
              "      <td>2011-09-14</td>\n",
              "      <td>0</td>\n",
              "      <td>2</td>\n",
              "      <td>4</td>\n",
              "      <td>3028510</td>\n",
              "      <td>3</td>\n",
              "    </tr>\n",
              "    <tr>\n",
              "      <th>11</th>\n",
              "      <td>2727</td>\n",
              "      <td>18681</td>\n",
              "      <td>2017-12-01</td>\n",
              "      <td>32</td>\n",
              "      <td>0</td>\n",
              "      <td>C4</td>\n",
              "      <td>0</td>\n",
              "      <td>36085</td>\n",
              "      <td>2011-10-17</td>\n",
              "      <td>0</td>\n",
              "      <td>2</td>\n",
              "      <td>3</td>\n",
              "      <td>400440</td>\n",
              "      <td>2</td>\n",
              "    </tr>\n",
              "    <tr>\n",
              "      <th>12</th>\n",
              "      <td>1031</td>\n",
              "      <td>6846</td>\n",
              "      <td>2017-12-01</td>\n",
              "      <td>45</td>\n",
              "      <td>1</td>\n",
              "      <td>C7</td>\n",
              "      <td>1</td>\n",
              "      <td>68434</td>\n",
              "      <td>2011-11-07</td>\n",
              "      <td>0</td>\n",
              "      <td>2</td>\n",
              "      <td>3</td>\n",
              "      <td>300000</td>\n",
              "      <td>2</td>\n",
              "    </tr>\n",
              "    <tr>\n",
              "      <th>13</th>\n",
              "      <td>2137</td>\n",
              "      <td>14330</td>\n",
              "      <td>2017-12-01</td>\n",
              "      <td>35</td>\n",
              "      <td>0</td>\n",
              "      <td>C26</td>\n",
              "      <td>0</td>\n",
              "      <td>61050</td>\n",
              "      <td>2011-11-14</td>\n",
              "      <td>0</td>\n",
              "      <td>1</td>\n",
              "      <td>2</td>\n",
              "      <td>499820</td>\n",
              "      <td>3</td>\n",
              "    </tr>\n",
              "    <tr>\n",
              "      <th>14</th>\n",
              "      <td>2568</td>\n",
              "      <td>17546</td>\n",
              "      <td>2017-12-01</td>\n",
              "      <td>32</td>\n",
              "      <td>1</td>\n",
              "      <td>C28</td>\n",
              "      <td>0</td>\n",
              "      <td>83298</td>\n",
              "      <td>2011-12-05</td>\n",
              "      <td>0</td>\n",
              "      <td>2</td>\n",
              "      <td>4</td>\n",
              "      <td>3139180</td>\n",
              "      <td>2</td>\n",
              "    </tr>\n",
              "    <tr>\n",
              "      <th>15</th>\n",
              "      <td>1745</td>\n",
              "      <td>11769</td>\n",
              "      <td>2017-12-01</td>\n",
              "      <td>31</td>\n",
              "      <td>1</td>\n",
              "      <td>C18</td>\n",
              "      <td>0</td>\n",
              "      <td>149637</td>\n",
              "      <td>2011-12-19</td>\n",
              "      <td>0</td>\n",
              "      <td>2</td>\n",
              "      <td>4</td>\n",
              "      <td>1953980</td>\n",
              "      <td>2</td>\n",
              "    </tr>\n",
              "    <tr>\n",
              "      <th>16</th>\n",
              "      <td>2668</td>\n",
              "      <td>18260</td>\n",
              "      <td>2017-12-01</td>\n",
              "      <td>35</td>\n",
              "      <td>1</td>\n",
              "      <td>C16</td>\n",
              "      <td>0</td>\n",
              "      <td>112112</td>\n",
              "      <td>2011-12-27</td>\n",
              "      <td>0</td>\n",
              "      <td>2</td>\n",
              "      <td>4</td>\n",
              "      <td>656220</td>\n",
              "      <td>1</td>\n",
              "    </tr>\n",
              "    <tr>\n",
              "      <th>17</th>\n",
              "      <td>2617</td>\n",
              "      <td>17935</td>\n",
              "      <td>2017-12-01</td>\n",
              "      <td>39</td>\n",
              "      <td>0</td>\n",
              "      <td>C25</td>\n",
              "      <td>0</td>\n",
              "      <td>104128</td>\n",
              "      <td>2012-01-16</td>\n",
              "      <td>0</td>\n",
              "      <td>2</td>\n",
              "      <td>4</td>\n",
              "      <td>632440</td>\n",
              "      <td>2</td>\n",
              "    </tr>\n",
              "    <tr>\n",
              "      <th>18</th>\n",
              "      <td>2070</td>\n",
              "      <td>13901</td>\n",
              "      <td>2017-12-01</td>\n",
              "      <td>32</td>\n",
              "      <td>1</td>\n",
              "      <td>C6</td>\n",
              "      <td>0</td>\n",
              "      <td>82773</td>\n",
              "      <td>2012-01-30</td>\n",
              "      <td>0</td>\n",
              "      <td>2</td>\n",
              "      <td>4</td>\n",
              "      <td>764900</td>\n",
              "      <td>2</td>\n",
              "    </tr>\n",
              "    <tr>\n",
              "      <th>19</th>\n",
              "      <td>1446</td>\n",
              "      <td>9741</td>\n",
              "      <td>2017-12-01</td>\n",
              "      <td>39</td>\n",
              "      <td>0</td>\n",
              "      <td>C8</td>\n",
              "      <td>0</td>\n",
              "      <td>119932</td>\n",
              "      <td>2012-02-09</td>\n",
              "      <td>0</td>\n",
              "      <td>2</td>\n",
              "      <td>4</td>\n",
              "      <td>1048600</td>\n",
              "      <td>2</td>\n",
              "    </tr>\n",
              "  </tbody>\n",
              "</table>\n",
              "</div>"
            ],
            "text/plain": [
              "    Emp_ID  index  ... Total Business Value  Quarterly Rating\n",
              "0   394     2592   ...  2701750              3               \n",
              "1   173     1177   ...  706010               3               \n",
              "2   1090    7296   ...  1518520              2               \n",
              "3   840     5638   ...  1151820              2               \n",
              "4   308     1975   ...  3772910              2               \n",
              "5   1864    12554  ...  895380               3               \n",
              "6   1606    10766  ...  652300               3               \n",
              "7   954     6413   ...  511200               3               \n",
              "8   2422    16405  ...  1943280              3               \n",
              "9   1841    12348  ...  735010               2               \n",
              "10  1484    9991   ...  3028510              3               \n",
              "11  2727    18681  ...  400440               2               \n",
              "12  1031    6846   ...  300000               2               \n",
              "13  2137    14330  ...  499820               3               \n",
              "14  2568    17546  ...  3139180              2               \n",
              "15  1745    11769  ...  1953980              2               \n",
              "16  2668    18260  ...  656220               1               \n",
              "17  2617    17935  ...  632440               2               \n",
              "18  2070    13901  ...  764900               2               \n",
              "19  1446    9741   ...  1048600              2               \n",
              "\n",
              "[20 rows x 14 columns]"
            ]
          },
          "metadata": {},
          "execution_count": 337
        }
      ]
    },
    {
      "cell_type": "markdown",
      "metadata": {
        "id": "3dB7a4fXo06b"
      },
      "source": [
        "# Same Pre-processing is repeated on Test Dataset for Same Datatypes"
      ]
    },
    {
      "cell_type": "code",
      "metadata": {
        "id": "XnWyHtJXFqRt"
      },
      "source": [
        "test_final = test_final.drop(labels=[\"LastWorkingDate\"], axis=1)            "
      ],
      "execution_count": null,
      "outputs": []
    },
    {
      "cell_type": "code",
      "metadata": {
        "id": "xm0uTZUlwupr"
      },
      "source": [
        "x_final_test = test_final[[\"Age\",\"Gender\", \"Education_Level\", \"Salary\", \"Joining Designation\", \"Designation\", \"Total Business Value\", \"Quarterly Rating\" ]]"
      ],
      "execution_count": null,
      "outputs": []
    },
    {
      "cell_type": "code",
      "metadata": {
        "colab": {
          "base_uri": "https://localhost:8080/"
        },
        "id": "NXLrYY73x1X6",
        "outputId": "0c3cdb75-0fb7-4d5d-a5aa-c2c52000228a"
      },
      "source": [
        "x_final_test.isnull().sum()"
      ],
      "execution_count": null,
      "outputs": [
        {
          "output_type": "execute_result",
          "data": {
            "text/plain": [
              "Age                     0\n",
              "Gender                  0\n",
              "Education_Level         0\n",
              "Salary                  0\n",
              "Joining Designation     0\n",
              "Designation             0\n",
              "Total Business Value    0\n",
              "Quarterly Rating        0\n",
              "dtype: int64"
            ]
          },
          "metadata": {},
          "execution_count": 340
        }
      ]
    },
    {
      "cell_type": "code",
      "metadata": {
        "colab": {
          "base_uri": "https://localhost:8080/",
          "height": 363
        },
        "id": "eMLsV4X-x4Ji",
        "outputId": "57ef6637-0648-4f2f-ad51-85237e64745e"
      },
      "source": [
        "x_final_test.head(10)"
      ],
      "execution_count": null,
      "outputs": [
        {
          "output_type": "execute_result",
          "data": {
            "text/html": [
              "<div>\n",
              "<style scoped>\n",
              "    .dataframe tbody tr th:only-of-type {\n",
              "        vertical-align: middle;\n",
              "    }\n",
              "\n",
              "    .dataframe tbody tr th {\n",
              "        vertical-align: top;\n",
              "    }\n",
              "\n",
              "    .dataframe thead th {\n",
              "        text-align: right;\n",
              "    }\n",
              "</style>\n",
              "<table border=\"1\" class=\"dataframe\">\n",
              "  <thead>\n",
              "    <tr style=\"text-align: right;\">\n",
              "      <th></th>\n",
              "      <th>Age</th>\n",
              "      <th>Gender</th>\n",
              "      <th>Education_Level</th>\n",
              "      <th>Salary</th>\n",
              "      <th>Joining Designation</th>\n",
              "      <th>Designation</th>\n",
              "      <th>Total Business Value</th>\n",
              "      <th>Quarterly Rating</th>\n",
              "    </tr>\n",
              "  </thead>\n",
              "  <tbody>\n",
              "    <tr>\n",
              "      <th>0</th>\n",
              "      <td>34</td>\n",
              "      <td>0</td>\n",
              "      <td>0</td>\n",
              "      <td>97722</td>\n",
              "      <td>2</td>\n",
              "      <td>4</td>\n",
              "      <td>2701750</td>\n",
              "      <td>3</td>\n",
              "    </tr>\n",
              "    <tr>\n",
              "      <th>1</th>\n",
              "      <td>39</td>\n",
              "      <td>1</td>\n",
              "      <td>0</td>\n",
              "      <td>56174</td>\n",
              "      <td>1</td>\n",
              "      <td>3</td>\n",
              "      <td>706010</td>\n",
              "      <td>3</td>\n",
              "    </tr>\n",
              "    <tr>\n",
              "      <th>2</th>\n",
              "      <td>39</td>\n",
              "      <td>1</td>\n",
              "      <td>0</td>\n",
              "      <td>96750</td>\n",
              "      <td>2</td>\n",
              "      <td>4</td>\n",
              "      <td>1518520</td>\n",
              "      <td>2</td>\n",
              "    </tr>\n",
              "    <tr>\n",
              "      <th>3</th>\n",
              "      <td>40</td>\n",
              "      <td>0</td>\n",
              "      <td>0</td>\n",
              "      <td>88813</td>\n",
              "      <td>1</td>\n",
              "      <td>4</td>\n",
              "      <td>1151820</td>\n",
              "      <td>2</td>\n",
              "    </tr>\n",
              "    <tr>\n",
              "      <th>4</th>\n",
              "      <td>32</td>\n",
              "      <td>1</td>\n",
              "      <td>0</td>\n",
              "      <td>188418</td>\n",
              "      <td>2</td>\n",
              "      <td>5</td>\n",
              "      <td>3772910</td>\n",
              "      <td>2</td>\n",
              "    </tr>\n",
              "    <tr>\n",
              "      <th>5</th>\n",
              "      <td>34</td>\n",
              "      <td>0</td>\n",
              "      <td>1</td>\n",
              "      <td>85688</td>\n",
              "      <td>1</td>\n",
              "      <td>3</td>\n",
              "      <td>895380</td>\n",
              "      <td>3</td>\n",
              "    </tr>\n",
              "    <tr>\n",
              "      <th>6</th>\n",
              "      <td>44</td>\n",
              "      <td>0</td>\n",
              "      <td>1</td>\n",
              "      <td>99127</td>\n",
              "      <td>1</td>\n",
              "      <td>3</td>\n",
              "      <td>652300</td>\n",
              "      <td>3</td>\n",
              "    </tr>\n",
              "    <tr>\n",
              "      <th>7</th>\n",
              "      <td>31</td>\n",
              "      <td>1</td>\n",
              "      <td>0</td>\n",
              "      <td>43996</td>\n",
              "      <td>1</td>\n",
              "      <td>2</td>\n",
              "      <td>511200</td>\n",
              "      <td>3</td>\n",
              "    </tr>\n",
              "    <tr>\n",
              "      <th>8</th>\n",
              "      <td>48</td>\n",
              "      <td>1</td>\n",
              "      <td>1</td>\n",
              "      <td>111507</td>\n",
              "      <td>2</td>\n",
              "      <td>4</td>\n",
              "      <td>1943280</td>\n",
              "      <td>3</td>\n",
              "    </tr>\n",
              "    <tr>\n",
              "      <th>9</th>\n",
              "      <td>33</td>\n",
              "      <td>1</td>\n",
              "      <td>0</td>\n",
              "      <td>123565</td>\n",
              "      <td>1</td>\n",
              "      <td>3</td>\n",
              "      <td>735010</td>\n",
              "      <td>2</td>\n",
              "    </tr>\n",
              "  </tbody>\n",
              "</table>\n",
              "</div>"
            ],
            "text/plain": [
              "   Age  Gender  ...  Total Business Value  Quarterly Rating\n",
              "0  34   0       ...  2701750               3               \n",
              "1  39   1       ...  706010                3               \n",
              "2  39   1       ...  1518520               2               \n",
              "3  40   0       ...  1151820               2               \n",
              "4  32   1       ...  3772910               2               \n",
              "5  34   0       ...  895380                3               \n",
              "6  44   0       ...  652300                3               \n",
              "7  31   1       ...  511200                3               \n",
              "8  48   1       ...  1943280               3               \n",
              "9  33   1       ...  735010                2               \n",
              "\n",
              "[10 rows x 8 columns]"
            ]
          },
          "metadata": {},
          "execution_count": 341
        }
      ]
    },
    {
      "cell_type": "code",
      "metadata": {
        "id": "fiGAexNfyJgJ"
      },
      "source": [
        "# StandardScalar Test Data\n",
        "sc = StandardScaler()\n",
        "x_final_test[\"Age\"] = sc.fit_transform(x_final_test[[\"Age\"]])\n",
        "sc1 = StandardScaler()\n",
        "x_final_test[\"Salary\"] = sc1.fit_transform(x_final_test[[\"Salary\"]])\n",
        "sc2 = StandardScaler()\n",
        "x_final_test[\"Total Business Value\"] = sc1.fit_transform(x_final_test[[\"Total Business Value\"]])"
      ],
      "execution_count": null,
      "outputs": []
    },
    {
      "cell_type": "code",
      "metadata": {
        "colab": {
          "base_uri": "https://localhost:8080/",
          "height": 206
        },
        "id": "7IDs3_sqzTFW",
        "outputId": "988b063c-8b50-46b1-8afd-51177287e20b"
      },
      "source": [
        "x_final_test.head()"
      ],
      "execution_count": null,
      "outputs": [
        {
          "output_type": "execute_result",
          "data": {
            "text/html": [
              "<div>\n",
              "<style scoped>\n",
              "    .dataframe tbody tr th:only-of-type {\n",
              "        vertical-align: middle;\n",
              "    }\n",
              "\n",
              "    .dataframe tbody tr th {\n",
              "        vertical-align: top;\n",
              "    }\n",
              "\n",
              "    .dataframe thead th {\n",
              "        text-align: right;\n",
              "    }\n",
              "</style>\n",
              "<table border=\"1\" class=\"dataframe\">\n",
              "  <thead>\n",
              "    <tr style=\"text-align: right;\">\n",
              "      <th></th>\n",
              "      <th>Age</th>\n",
              "      <th>Gender</th>\n",
              "      <th>Education_Level</th>\n",
              "      <th>Salary</th>\n",
              "      <th>Joining Designation</th>\n",
              "      <th>Designation</th>\n",
              "      <th>Total Business Value</th>\n",
              "      <th>Quarterly Rating</th>\n",
              "    </tr>\n",
              "  </thead>\n",
              "  <tbody>\n",
              "    <tr>\n",
              "      <th>0</th>\n",
              "      <td>-0.058988</td>\n",
              "      <td>0</td>\n",
              "      <td>0</td>\n",
              "      <td>1.021806</td>\n",
              "      <td>2</td>\n",
              "      <td>4</td>\n",
              "      <td>1.008084</td>\n",
              "      <td>3</td>\n",
              "    </tr>\n",
              "    <tr>\n",
              "      <th>1</th>\n",
              "      <td>0.788109</td>\n",
              "      <td>1</td>\n",
              "      <td>0</td>\n",
              "      <td>-0.392129</td>\n",
              "      <td>1</td>\n",
              "      <td>3</td>\n",
              "      <td>-0.030619</td>\n",
              "      <td>3</td>\n",
              "    </tr>\n",
              "    <tr>\n",
              "      <th>2</th>\n",
              "      <td>0.788109</td>\n",
              "      <td>1</td>\n",
              "      <td>0</td>\n",
              "      <td>0.988727</td>\n",
              "      <td>2</td>\n",
              "      <td>4</td>\n",
              "      <td>0.392260</td>\n",
              "      <td>2</td>\n",
              "    </tr>\n",
              "    <tr>\n",
              "      <th>3</th>\n",
              "      <td>0.957528</td>\n",
              "      <td>0</td>\n",
              "      <td>0</td>\n",
              "      <td>0.718620</td>\n",
              "      <td>1</td>\n",
              "      <td>4</td>\n",
              "      <td>0.201407</td>\n",
              "      <td>2</td>\n",
              "    </tr>\n",
              "    <tr>\n",
              "      <th>4</th>\n",
              "      <td>-0.397827</td>\n",
              "      <td>1</td>\n",
              "      <td>0</td>\n",
              "      <td>4.108314</td>\n",
              "      <td>2</td>\n",
              "      <td>5</td>\n",
              "      <td>1.565580</td>\n",
              "      <td>2</td>\n",
              "    </tr>\n",
              "  </tbody>\n",
              "</table>\n",
              "</div>"
            ],
            "text/plain": [
              "        Age  Gender  ...  Total Business Value  Quarterly Rating\n",
              "0 -0.058988  0       ...  1.008084              3               \n",
              "1  0.788109  1       ... -0.030619              3               \n",
              "2  0.788109  1       ...  0.392260              2               \n",
              "3  0.957528  0       ...  0.201407              2               \n",
              "4 -0.397827  1       ...  1.565580              2               \n",
              "\n",
              "[5 rows x 8 columns]"
            ]
          },
          "metadata": {},
          "execution_count": 343
        }
      ]
    },
    {
      "cell_type": "code",
      "metadata": {
        "id": "1NBp1JWjzU8G"
      },
      "source": [
        "y_pred1 = model.predict(x_final_test)"
      ],
      "execution_count": null,
      "outputs": []
    },
    {
      "cell_type": "code",
      "metadata": {
        "colab": {
          "base_uri": "https://localhost:8080/"
        },
        "id": "mTytR6Kizche",
        "outputId": "9f8402a7-f8a8-4e53-95ef-0c70ddc1d922"
      },
      "source": [
        "y_pred1"
      ],
      "execution_count": null,
      "outputs": [
        {
          "output_type": "execute_result",
          "data": {
            "text/plain": [
              "array([0, 0, 0, 0, 0, 0, 0, 1, 0, 0, 0, 1, 1, 1, 0, 0, 0, 0, 0, 0, 1, 0,\n",
              "       1, 0, 0, 0, 1, 0, 0, 0, 0, 0, 0, 0, 0, 0, 0, 0, 0, 0, 1, 0, 0, 0,\n",
              "       0, 1, 1, 0, 0, 0, 0, 0, 0, 0, 0, 0, 0, 0, 0, 0, 0, 1, 0, 1, 0, 0,\n",
              "       0, 0, 0, 0, 0, 0, 1, 0, 0, 0, 0, 1, 0, 1, 0, 0, 1, 1, 0, 0, 1, 0,\n",
              "       0, 1, 0, 0, 0, 0, 0, 0, 1, 0, 0, 1, 0, 0, 1, 1, 1, 0, 0, 0, 0, 0,\n",
              "       0, 1, 1, 0, 0, 1, 0, 0, 0, 0, 0, 0, 0, 0, 0, 0, 1, 0, 1, 0, 0, 1,\n",
              "       0, 0, 0, 0, 1, 1, 1, 1, 0, 1, 0, 0, 0, 1, 0, 0, 1, 1, 1, 1, 1, 0,\n",
              "       0, 0, 0, 0, 1, 0, 0, 0, 0, 1, 0, 0, 0, 1, 0, 0, 1, 1, 0, 0, 1, 0,\n",
              "       0, 0, 1, 0, 0, 1, 0, 0, 0, 0, 0, 0, 0, 0, 0, 0, 0, 1, 0, 0, 0, 1,\n",
              "       0, 0, 0, 0, 0, 0, 0, 1, 1, 0, 0, 1, 0, 0, 1, 1, 0, 1, 0, 1, 0, 0,\n",
              "       1, 0, 0, 0, 1, 0, 1, 1, 0, 0, 1, 0, 1, 0, 1, 0, 0, 0, 1, 1, 1, 0,\n",
              "       0, 0, 1, 1, 1, 1, 0, 0, 1, 0, 1, 0, 1, 1, 0, 1, 0, 0, 1, 0, 0, 0,\n",
              "       0, 0, 1, 1, 0, 0, 1, 0, 1, 1, 0, 1, 0, 0, 0, 1, 1, 0, 1, 1, 0, 0,\n",
              "       1, 1, 0, 1, 1, 0, 1, 1, 1, 0, 0, 1, 0, 0, 1, 1, 1, 0, 0, 1, 1, 0,\n",
              "       0, 0, 1, 0, 1, 0, 1, 1, 1, 0, 1, 1, 1, 0, 1, 0, 1, 0, 1, 1, 0, 1,\n",
              "       0, 1, 0, 1, 1, 1, 1, 1, 1, 1, 1, 1, 1, 1, 0, 1, 1, 1, 1, 0, 1, 0,\n",
              "       0, 1, 1, 0, 1, 1, 0, 0, 0, 0, 0, 1, 1, 0, 1, 0, 1, 1, 1, 1, 0, 0,\n",
              "       1, 1, 1, 1, 0, 1, 0, 0, 0, 0, 1, 1, 1, 1, 1, 1, 1, 1, 0, 0, 1, 1,\n",
              "       1, 1, 1, 1, 0, 1, 0, 1, 1, 1, 1, 0, 1, 1, 0, 1, 1, 1, 1, 1, 0, 1,\n",
              "       0, 1, 1, 0, 1, 1, 1, 1, 0, 1, 1, 1, 1, 0, 1, 0, 0, 1, 1, 1, 1, 1,\n",
              "       1, 0, 1, 1, 1, 1, 1, 1, 1, 1, 1, 1, 0, 0, 1, 0, 1, 1, 1, 0, 0, 1,\n",
              "       1, 1, 1, 1, 1, 1, 1, 1, 1, 0, 1, 1, 1, 1, 1, 1, 1, 1, 0, 1, 1, 1,\n",
              "       1, 1, 1, 0, 0, 1, 1, 0, 1, 0, 0, 1, 1, 1, 1, 1, 1, 1, 1, 1, 0, 1,\n",
              "       0, 1, 1, 1, 0, 1, 1, 1, 0, 1, 0, 1, 0, 1, 1, 1, 1, 1, 0, 1, 1, 0,\n",
              "       1, 1, 1, 1, 1, 0, 1, 1, 1, 1, 1, 0, 1, 0, 0, 1, 0, 0, 1, 1, 1, 0,\n",
              "       1, 1, 0, 1, 0, 1, 1, 1, 1, 1, 1, 0, 1, 1, 1, 1, 1, 1, 1, 1, 1, 1,\n",
              "       1, 1, 1, 1, 1, 1, 1, 1, 1, 1, 1, 1, 1, 1, 1, 1, 1, 1, 1, 1, 1, 1,\n",
              "       0, 1, 1, 0, 1, 1, 1, 1, 1, 1, 1, 1, 1, 1, 0, 1, 1, 1, 1, 1, 1, 1,\n",
              "       1, 1, 1, 1, 1, 1, 1, 1, 1, 1, 1, 1, 1, 1, 1, 1, 1, 0, 1, 1, 1, 1,\n",
              "       1, 1, 1, 1, 1, 1, 1, 1, 1, 1, 1, 1, 1, 1, 1, 1, 1, 1, 1, 1, 1, 1,\n",
              "       1, 1, 1, 1, 1, 1, 1, 1, 1, 1, 1, 1, 1, 1, 1, 1, 1, 1, 1, 1, 1, 1,\n",
              "       1, 1, 1, 1, 1, 1, 1, 1, 1, 1, 1, 1, 1, 1, 1, 1, 1, 1, 1, 1, 1, 1,\n",
              "       1, 1, 1, 1, 1, 1, 1, 1, 1, 1, 1, 1, 1, 1, 1, 1, 1, 1, 0, 1, 1, 0,\n",
              "       0, 0, 1, 1, 0, 0, 0, 0, 0, 1, 0, 0, 0, 0, 0])"
            ]
          },
          "metadata": {},
          "execution_count": 345
        }
      ]
    },
    {
      "cell_type": "code",
      "metadata": {
        "id": "FbbCa4T35Ycw"
      },
      "source": [
        "submission = pd.DataFrame({\"Emp_ID\":test[\"Emp_ID\"], \"Target\":y_pred1})"
      ],
      "execution_count": null,
      "outputs": []
    },
    {
      "cell_type": "code",
      "metadata": {
        "colab": {
          "base_uri": "https://localhost:8080/",
          "height": 990
        },
        "id": "dk3-kffE50KL",
        "outputId": "c91510fe-e764-44f5-b2d5-25404b363c58"
      },
      "source": [
        "submission.head(30)"
      ],
      "execution_count": null,
      "outputs": [
        {
          "output_type": "execute_result",
          "data": {
            "text/html": [
              "<div>\n",
              "<style scoped>\n",
              "    .dataframe tbody tr th:only-of-type {\n",
              "        vertical-align: middle;\n",
              "    }\n",
              "\n",
              "    .dataframe tbody tr th {\n",
              "        vertical-align: top;\n",
              "    }\n",
              "\n",
              "    .dataframe thead th {\n",
              "        text-align: right;\n",
              "    }\n",
              "</style>\n",
              "<table border=\"1\" class=\"dataframe\">\n",
              "  <thead>\n",
              "    <tr style=\"text-align: right;\">\n",
              "      <th></th>\n",
              "      <th>Emp_ID</th>\n",
              "      <th>Target</th>\n",
              "    </tr>\n",
              "  </thead>\n",
              "  <tbody>\n",
              "    <tr>\n",
              "      <th>0</th>\n",
              "      <td>394</td>\n",
              "      <td>0</td>\n",
              "    </tr>\n",
              "    <tr>\n",
              "      <th>1</th>\n",
              "      <td>173</td>\n",
              "      <td>0</td>\n",
              "    </tr>\n",
              "    <tr>\n",
              "      <th>2</th>\n",
              "      <td>1090</td>\n",
              "      <td>0</td>\n",
              "    </tr>\n",
              "    <tr>\n",
              "      <th>3</th>\n",
              "      <td>840</td>\n",
              "      <td>0</td>\n",
              "    </tr>\n",
              "    <tr>\n",
              "      <th>4</th>\n",
              "      <td>308</td>\n",
              "      <td>0</td>\n",
              "    </tr>\n",
              "    <tr>\n",
              "      <th>5</th>\n",
              "      <td>1864</td>\n",
              "      <td>0</td>\n",
              "    </tr>\n",
              "    <tr>\n",
              "      <th>6</th>\n",
              "      <td>1606</td>\n",
              "      <td>0</td>\n",
              "    </tr>\n",
              "    <tr>\n",
              "      <th>7</th>\n",
              "      <td>954</td>\n",
              "      <td>1</td>\n",
              "    </tr>\n",
              "    <tr>\n",
              "      <th>8</th>\n",
              "      <td>2422</td>\n",
              "      <td>0</td>\n",
              "    </tr>\n",
              "    <tr>\n",
              "      <th>9</th>\n",
              "      <td>1841</td>\n",
              "      <td>0</td>\n",
              "    </tr>\n",
              "    <tr>\n",
              "      <th>10</th>\n",
              "      <td>1484</td>\n",
              "      <td>0</td>\n",
              "    </tr>\n",
              "    <tr>\n",
              "      <th>11</th>\n",
              "      <td>2727</td>\n",
              "      <td>1</td>\n",
              "    </tr>\n",
              "    <tr>\n",
              "      <th>12</th>\n",
              "      <td>1031</td>\n",
              "      <td>1</td>\n",
              "    </tr>\n",
              "    <tr>\n",
              "      <th>13</th>\n",
              "      <td>2137</td>\n",
              "      <td>1</td>\n",
              "    </tr>\n",
              "    <tr>\n",
              "      <th>14</th>\n",
              "      <td>2568</td>\n",
              "      <td>0</td>\n",
              "    </tr>\n",
              "    <tr>\n",
              "      <th>15</th>\n",
              "      <td>1745</td>\n",
              "      <td>0</td>\n",
              "    </tr>\n",
              "    <tr>\n",
              "      <th>16</th>\n",
              "      <td>2668</td>\n",
              "      <td>0</td>\n",
              "    </tr>\n",
              "    <tr>\n",
              "      <th>17</th>\n",
              "      <td>2617</td>\n",
              "      <td>0</td>\n",
              "    </tr>\n",
              "    <tr>\n",
              "      <th>18</th>\n",
              "      <td>2070</td>\n",
              "      <td>0</td>\n",
              "    </tr>\n",
              "    <tr>\n",
              "      <th>19</th>\n",
              "      <td>1446</td>\n",
              "      <td>0</td>\n",
              "    </tr>\n",
              "    <tr>\n",
              "      <th>20</th>\n",
              "      <td>1043</td>\n",
              "      <td>1</td>\n",
              "    </tr>\n",
              "    <tr>\n",
              "      <th>21</th>\n",
              "      <td>2561</td>\n",
              "      <td>0</td>\n",
              "    </tr>\n",
              "    <tr>\n",
              "      <th>22</th>\n",
              "      <td>945</td>\n",
              "      <td>1</td>\n",
              "    </tr>\n",
              "    <tr>\n",
              "      <th>23</th>\n",
              "      <td>2517</td>\n",
              "      <td>0</td>\n",
              "    </tr>\n",
              "    <tr>\n",
              "      <th>24</th>\n",
              "      <td>1039</td>\n",
              "      <td>0</td>\n",
              "    </tr>\n",
              "    <tr>\n",
              "      <th>25</th>\n",
              "      <td>2594</td>\n",
              "      <td>0</td>\n",
              "    </tr>\n",
              "    <tr>\n",
              "      <th>26</th>\n",
              "      <td>115</td>\n",
              "      <td>1</td>\n",
              "    </tr>\n",
              "    <tr>\n",
              "      <th>27</th>\n",
              "      <td>870</td>\n",
              "      <td>0</td>\n",
              "    </tr>\n",
              "    <tr>\n",
              "      <th>28</th>\n",
              "      <td>329</td>\n",
              "      <td>0</td>\n",
              "    </tr>\n",
              "    <tr>\n",
              "      <th>29</th>\n",
              "      <td>973</td>\n",
              "      <td>0</td>\n",
              "    </tr>\n",
              "  </tbody>\n",
              "</table>\n",
              "</div>"
            ],
            "text/plain": [
              "    Emp_ID  Target\n",
              "0   394     0     \n",
              "1   173     0     \n",
              "2   1090    0     \n",
              "3   840     0     \n",
              "4   308     0     \n",
              "5   1864    0     \n",
              "6   1606    0     \n",
              "7   954     1     \n",
              "8   2422    0     \n",
              "9   1841    0     \n",
              "10  1484    0     \n",
              "11  2727    1     \n",
              "12  1031    1     \n",
              "13  2137    1     \n",
              "14  2568    0     \n",
              "15  1745    0     \n",
              "16  2668    0     \n",
              "17  2617    0     \n",
              "18  2070    0     \n",
              "19  1446    0     \n",
              "20  1043    1     \n",
              "21  2561    0     \n",
              "22  945     1     \n",
              "23  2517    0     \n",
              "24  1039    0     \n",
              "25  2594    0     \n",
              "26  115     1     \n",
              "27  870     0     \n",
              "28  329     0     \n",
              "29  973     0     "
            ]
          },
          "metadata": {},
          "execution_count": 352
        }
      ]
    },
    {
      "cell_type": "code",
      "metadata": {
        "id": "jk96TIbAs-Ns"
      },
      "source": [
        "submission.to_csv(\"abc_submission.csv\", index=False)"
      ],
      "execution_count": null,
      "outputs": []
    }
  ]
}